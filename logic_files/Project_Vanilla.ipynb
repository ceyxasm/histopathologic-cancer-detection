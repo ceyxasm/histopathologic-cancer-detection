{
  "nbformat": 4,
  "nbformat_minor": 0,
  "metadata": {
    "colab": {
      "name": "Project Vanilla.ipynb",
      "provenance": [],
      "collapsed_sections": []
    },
    "kernelspec": {
      "name": "python3",
      "display_name": "Python 3"
    },
    "language_info": {
      "name": "python"
    }
  },
  "cells": [
    {
      "cell_type": "code",
      "source": [
        "from google.colab import drive\n",
        "drive.mount('/content/drive')"
      ],
      "metadata": {
        "id": "fF3fd5VA0lL0",
        "colab": {
          "base_uri": "https://localhost:8080/"
        },
        "outputId": "24b8a308-aee6-4547-eaa2-75802ed7fbef"
      },
      "execution_count": null,
      "outputs": [
        {
          "output_type": "stream",
          "name": "stdout",
          "text": [
            "Drive already mounted at /content/drive; to attempt to forcibly remount, call drive.mount(\"/content/drive\", force_remount=True).\n"
          ]
        }
      ]
    },
    {
      "cell_type": "code",
      "source": [
        "import numpy as np\n",
        "import pandas as pd\n",
        "import os\n",
        "from os import listdir\n",
        "import cv2\n",
        "\n",
        "import matplotlib.pyplot as plt\n",
        "%matplotlib inline\n",
        "import seaborn as sns\n",
        "sns.set()\n",
        "from PIL import Image\n",
        "from glob import glob\n",
        "from skimage.io import imread\n",
        "\n",
        "import sklearn\n",
        "from sklearn.model_selection import train_test_split\n",
        "from sklearn.metrics import roc_auc_score\n",
        "\n",
        "import torch \n",
        "import torch.nn as nn\n",
        "import torch.nn.functional as F\n",
        "import torchvision\n",
        "import torchvision.transforms as transforms\n",
        "from torch.utils.data import TensorDataset, DataLoader, Dataset\n",
        "import torch.optim as optim\n",
        "\n",
        "import time\n",
        "import copy\n",
        "from tqdm import tqdm_notebook as tqdm\n",
        "\n",
        "import warnings\n",
        "warnings.filterwarnings(\"ignore\", category=DeprecationWarning)\n",
        "warnings.filterwarnings(\"ignore\", category=UserWarning)\n",
        "warnings.filterwarnings(\"ignore\", category=FutureWarning)\n",
        "\n",
        "from sklearn.decomposition import PCA\n",
        "from sklearn.discriminant_analysis import LinearDiscriminantAnalysis as LDA\n",
        "from lightgbm import LGBMClassifier\n",
        "from sklearn.model_selection import RandomizedSearchCV\n",
        "from sklearn.model_selection import GridSearchCV\n",
        "from sklearn.preprocessing import StandardScaler\n",
        "from sklearn.pipeline import make_pipeline\n",
        "from sklearn.pipeline import Pipeline\n",
        "from sklearn.metrics import classification_report\n",
        "\n",
        "print('Imports complete')\n"
      ],
      "metadata": {
        "id": "u_aDUko3PiiZ",
        "colab": {
          "base_uri": "https://localhost:8080/"
        },
        "outputId": "b9d2ed22-145a-44d8-f848-2f5de1730a17"
      },
      "execution_count": null,
      "outputs": [
        {
          "output_type": "stream",
          "name": "stdout",
          "text": [
            "Imports complete\n"
          ]
        }
      ]
    },
    {
      "cell_type": "code",
      "source": [
        "labels=pd.read_csv(\"/content/drive/MyDrive/PRML project/Random_Sample/labels_sampled.csv\")"
      ],
      "metadata": {
        "id": "B0AaJSwlwWxe"
      },
      "execution_count": null,
      "outputs": []
    },
    {
      "cell_type": "code",
      "source": [
        "labels=labels.drop(['Unnamed: 0'],axis=1)"
      ],
      "metadata": {
        "id": "LidcFMcMwy4S"
      },
      "execution_count": null,
      "outputs": []
    },
    {
      "cell_type": "code",
      "source": [
        "labels"
      ],
      "metadata": {
        "colab": {
          "base_uri": "https://localhost:8080/",
          "height": 423
        },
        "id": "miwgInEJw1Dh",
        "outputId": "bb1979c5-4e31-42f3-8aa3-7f470c52a2d9"
      },
      "execution_count": null,
      "outputs": [
        {
          "output_type": "execute_result",
          "data": {
            "text/plain": [
              "                                            id  label\n",
              "0     11a68ca42b1d39a294f583bff78e02d3ba2fd351      1\n",
              "1     f42dc1a114133887775d89a92c5572eedd151ce3      1\n",
              "2     4377658e3f44232420819ed70f5d04c83cc2a183      1\n",
              "3     c202ef01e9a4b002a58eb2284dbde87244e3c27a      0\n",
              "4     1e8f4b97644bb654fe24e07c175f38d682520dd3      1\n",
              "...                                        ...    ...\n",
              "5495  da7e9c8880a251a7f3a7a69debdaa99fc63f88de      1\n",
              "5496  9149e1c41d80e09eee71e88b4477b5eea17ea568      1\n",
              "5497  c43409816e668aea392040ca457b159abc38c7e3      0\n",
              "5498  53ef9a25f03b08ca735e136fa9e03a9349764aff      0\n",
              "5499  d06138e8f23c319198d56cea8ae7b277c4184303      0\n",
              "\n",
              "[5500 rows x 2 columns]"
            ],
            "text/html": [
              "\n",
              "  <div id=\"df-af4e59a5-b3ba-4a4a-833e-bb0edffd0081\">\n",
              "    <div class=\"colab-df-container\">\n",
              "      <div>\n",
              "<style scoped>\n",
              "    .dataframe tbody tr th:only-of-type {\n",
              "        vertical-align: middle;\n",
              "    }\n",
              "\n",
              "    .dataframe tbody tr th {\n",
              "        vertical-align: top;\n",
              "    }\n",
              "\n",
              "    .dataframe thead th {\n",
              "        text-align: right;\n",
              "    }\n",
              "</style>\n",
              "<table border=\"1\" class=\"dataframe\">\n",
              "  <thead>\n",
              "    <tr style=\"text-align: right;\">\n",
              "      <th></th>\n",
              "      <th>id</th>\n",
              "      <th>label</th>\n",
              "    </tr>\n",
              "  </thead>\n",
              "  <tbody>\n",
              "    <tr>\n",
              "      <th>0</th>\n",
              "      <td>11a68ca42b1d39a294f583bff78e02d3ba2fd351</td>\n",
              "      <td>1</td>\n",
              "    </tr>\n",
              "    <tr>\n",
              "      <th>1</th>\n",
              "      <td>f42dc1a114133887775d89a92c5572eedd151ce3</td>\n",
              "      <td>1</td>\n",
              "    </tr>\n",
              "    <tr>\n",
              "      <th>2</th>\n",
              "      <td>4377658e3f44232420819ed70f5d04c83cc2a183</td>\n",
              "      <td>1</td>\n",
              "    </tr>\n",
              "    <tr>\n",
              "      <th>3</th>\n",
              "      <td>c202ef01e9a4b002a58eb2284dbde87244e3c27a</td>\n",
              "      <td>0</td>\n",
              "    </tr>\n",
              "    <tr>\n",
              "      <th>4</th>\n",
              "      <td>1e8f4b97644bb654fe24e07c175f38d682520dd3</td>\n",
              "      <td>1</td>\n",
              "    </tr>\n",
              "    <tr>\n",
              "      <th>...</th>\n",
              "      <td>...</td>\n",
              "      <td>...</td>\n",
              "    </tr>\n",
              "    <tr>\n",
              "      <th>5495</th>\n",
              "      <td>da7e9c8880a251a7f3a7a69debdaa99fc63f88de</td>\n",
              "      <td>1</td>\n",
              "    </tr>\n",
              "    <tr>\n",
              "      <th>5496</th>\n",
              "      <td>9149e1c41d80e09eee71e88b4477b5eea17ea568</td>\n",
              "      <td>1</td>\n",
              "    </tr>\n",
              "    <tr>\n",
              "      <th>5497</th>\n",
              "      <td>c43409816e668aea392040ca457b159abc38c7e3</td>\n",
              "      <td>0</td>\n",
              "    </tr>\n",
              "    <tr>\n",
              "      <th>5498</th>\n",
              "      <td>53ef9a25f03b08ca735e136fa9e03a9349764aff</td>\n",
              "      <td>0</td>\n",
              "    </tr>\n",
              "    <tr>\n",
              "      <th>5499</th>\n",
              "      <td>d06138e8f23c319198d56cea8ae7b277c4184303</td>\n",
              "      <td>0</td>\n",
              "    </tr>\n",
              "  </tbody>\n",
              "</table>\n",
              "<p>5500 rows × 2 columns</p>\n",
              "</div>\n",
              "      <button class=\"colab-df-convert\" onclick=\"convertToInteractive('df-af4e59a5-b3ba-4a4a-833e-bb0edffd0081')\"\n",
              "              title=\"Convert this dataframe to an interactive table.\"\n",
              "              style=\"display:none;\">\n",
              "        \n",
              "  <svg xmlns=\"http://www.w3.org/2000/svg\" height=\"24px\"viewBox=\"0 0 24 24\"\n",
              "       width=\"24px\">\n",
              "    <path d=\"M0 0h24v24H0V0z\" fill=\"none\"/>\n",
              "    <path d=\"M18.56 5.44l.94 2.06.94-2.06 2.06-.94-2.06-.94-.94-2.06-.94 2.06-2.06.94zm-11 1L8.5 8.5l.94-2.06 2.06-.94-2.06-.94L8.5 2.5l-.94 2.06-2.06.94zm10 10l.94 2.06.94-2.06 2.06-.94-2.06-.94-.94-2.06-.94 2.06-2.06.94z\"/><path d=\"M17.41 7.96l-1.37-1.37c-.4-.4-.92-.59-1.43-.59-.52 0-1.04.2-1.43.59L10.3 9.45l-7.72 7.72c-.78.78-.78 2.05 0 2.83L4 21.41c.39.39.9.59 1.41.59.51 0 1.02-.2 1.41-.59l7.78-7.78 2.81-2.81c.8-.78.8-2.07 0-2.86zM5.41 20L4 18.59l7.72-7.72 1.47 1.35L5.41 20z\"/>\n",
              "  </svg>\n",
              "      </button>\n",
              "      \n",
              "  <style>\n",
              "    .colab-df-container {\n",
              "      display:flex;\n",
              "      flex-wrap:wrap;\n",
              "      gap: 12px;\n",
              "    }\n",
              "\n",
              "    .colab-df-convert {\n",
              "      background-color: #E8F0FE;\n",
              "      border: none;\n",
              "      border-radius: 50%;\n",
              "      cursor: pointer;\n",
              "      display: none;\n",
              "      fill: #1967D2;\n",
              "      height: 32px;\n",
              "      padding: 0 0 0 0;\n",
              "      width: 32px;\n",
              "    }\n",
              "\n",
              "    .colab-df-convert:hover {\n",
              "      background-color: #E2EBFA;\n",
              "      box-shadow: 0px 1px 2px rgba(60, 64, 67, 0.3), 0px 1px 3px 1px rgba(60, 64, 67, 0.15);\n",
              "      fill: #174EA6;\n",
              "    }\n",
              "\n",
              "    [theme=dark] .colab-df-convert {\n",
              "      background-color: #3B4455;\n",
              "      fill: #D2E3FC;\n",
              "    }\n",
              "\n",
              "    [theme=dark] .colab-df-convert:hover {\n",
              "      background-color: #434B5C;\n",
              "      box-shadow: 0px 1px 3px 1px rgba(0, 0, 0, 0.15);\n",
              "      filter: drop-shadow(0px 1px 2px rgba(0, 0, 0, 0.3));\n",
              "      fill: #FFFFFF;\n",
              "    }\n",
              "  </style>\n",
              "\n",
              "      <script>\n",
              "        const buttonEl =\n",
              "          document.querySelector('#df-af4e59a5-b3ba-4a4a-833e-bb0edffd0081 button.colab-df-convert');\n",
              "        buttonEl.style.display =\n",
              "          google.colab.kernel.accessAllowed ? 'block' : 'none';\n",
              "\n",
              "        async function convertToInteractive(key) {\n",
              "          const element = document.querySelector('#df-af4e59a5-b3ba-4a4a-833e-bb0edffd0081');\n",
              "          const dataTable =\n",
              "            await google.colab.kernel.invokeFunction('convertToInteractive',\n",
              "                                                     [key], {});\n",
              "          if (!dataTable) return;\n",
              "\n",
              "          const docLinkHtml = 'Like what you see? Visit the ' +\n",
              "            '<a target=\"_blank\" href=https://colab.research.google.com/notebooks/data_table.ipynb>data table notebook</a>'\n",
              "            + ' to learn more about interactive tables.';\n",
              "          element.innerHTML = '';\n",
              "          dataTable['output_type'] = 'display_data';\n",
              "          await google.colab.output.renderOutput(dataTable, element);\n",
              "          const docLink = document.createElement('div');\n",
              "          docLink.innerHTML = docLinkHtml;\n",
              "          element.appendChild(docLink);\n",
              "        }\n",
              "      </script>\n",
              "    </div>\n",
              "  </div>\n",
              "  "
            ]
          },
          "metadata": {},
          "execution_count": 21
        }
      ]
    },
    {
      "cell_type": "markdown",
      "source": [
        "## What are Dimensions??"
      ],
      "metadata": {
        "id": "8Pkr_uYeyMbu"
      }
    },
    {
      "cell_type": "code",
      "source": [
        "! pip3 install raster2xyz"
      ],
      "metadata": {
        "colab": {
          "base_uri": "https://localhost:8080/"
        },
        "id": "Iai21ZG8yL3a",
        "outputId": "9918ca10-944e-432b-d431-60da30c8ea99"
      },
      "execution_count": null,
      "outputs": [
        {
          "output_type": "stream",
          "name": "stdout",
          "text": [
            "Collecting raster2xyz\n",
            "  Downloading raster2xyz-0.1.3.tar.gz (4.1 kB)\n",
            "Requirement already satisfied: numpy in /usr/local/lib/python3.7/dist-packages (from raster2xyz) (1.21.6)\n",
            "Requirement already satisfied: pandas in /usr/local/lib/python3.7/dist-packages (from raster2xyz) (1.3.5)\n",
            "Requirement already satisfied: GDAL in /usr/local/lib/python3.7/dist-packages (from raster2xyz) (2.2.2)\n",
            "Requirement already satisfied: pytz>=2017.3 in /usr/local/lib/python3.7/dist-packages (from pandas->raster2xyz) (2022.1)\n",
            "Requirement already satisfied: python-dateutil>=2.7.3 in /usr/local/lib/python3.7/dist-packages (from pandas->raster2xyz) (2.8.2)\n",
            "Requirement already satisfied: six>=1.5 in /usr/local/lib/python3.7/dist-packages (from python-dateutil>=2.7.3->pandas->raster2xyz) (1.15.0)\n",
            "Building wheels for collected packages: raster2xyz\n",
            "  Building wheel for raster2xyz (setup.py) ... \u001b[?25l\u001b[?25hdone\n",
            "  Created wheel for raster2xyz: filename=raster2xyz-0.1.3-py3-none-any.whl size=5964 sha256=b540f10112d97c44cac34985d95056754e29c724053af78615840bc903272f88\n",
            "  Stored in directory: /root/.cache/pip/wheels/07/4b/5d/fc666340cb735a7a79d149be0acd64dff8edec947dba612d70\n",
            "Successfully built raster2xyz\n",
            "Installing collected packages: raster2xyz\n",
            "Successfully installed raster2xyz-0.1.3\n"
          ]
        }
      ]
    },
    {
      "cell_type": "code",
      "source": [
        "from raster2xyz.raster2xyz import Raster2xyz\n",
        "\n",
        "input_raster = \"/content/drive/MyDrive/PRML project/Random_Sample/Train/0013241318e68fd3eaca389171d248f9cee0af12.tif\"\n",
        "out_csv = \"demo_out_xyz.csv\"\n",
        "\n",
        "rtxyz = Raster2xyz()\n",
        "rtxyz.translate(input_raster, out_csv)\n",
        "\n",
        "myRasterDF = pd.read_csv(out_csv)\n",
        "\n",
        "myRasterDF\n"
      ],
      "metadata": {
        "colab": {
          "base_uri": "https://localhost:8080/"
        },
        "id": "k3eJ8sO3yZLS",
        "outputId": "42494b55-abb9-43c0-e6e8-8af2cf2c0d7f"
      },
      "execution_count": null,
      "outputs": [
        {
          "output_type": "stream",
          "name": "stderr",
          "text": [
            "[2022-05-02 07:07:17 - INFO] - Getting geotransform and data...\n",
            "[2022-05-02 07:09:07 - INFO] - Getting XYZ data...\n",
            "[2022-05-02 07:09:07 - INFO] - Getting geotransformed coordinates...\n",
            "[2022-05-02 07:09:07 - INFO] - Building XYZ data...\n",
            "[2022-05-02 07:09:07 - INFO] - New XYZ (csv file) created...\n"
          ]
        },
        {
          "output_type": "execute_result",
          "data": {
            "text/plain": [
              "         x     y    z\n",
              "0      0.5   0.5  179\n",
              "1      1.5   0.5  255\n",
              "2      2.5   0.5  243\n",
              "3      3.5   0.5  199\n",
              "4      4.5   0.5  202\n",
              "...    ...   ...  ...\n",
              "9211  91.5  95.5  226\n",
              "9212  92.5  95.5  219\n",
              "9213  93.5  95.5  223\n",
              "9214  94.5  95.5  228\n",
              "9215  95.5  95.5  228\n",
              "\n",
              "[9216 rows x 3 columns]"
            ],
            "text/html": [
              "\n",
              "  <div id=\"df-0bd2ab65-e222-4dc8-9627-9e2fd98f76cd\">\n",
              "    <div class=\"colab-df-container\">\n",
              "      <div>\n",
              "<style scoped>\n",
              "    .dataframe tbody tr th:only-of-type {\n",
              "        vertical-align: middle;\n",
              "    }\n",
              "\n",
              "    .dataframe tbody tr th {\n",
              "        vertical-align: top;\n",
              "    }\n",
              "\n",
              "    .dataframe thead th {\n",
              "        text-align: right;\n",
              "    }\n",
              "</style>\n",
              "<table border=\"1\" class=\"dataframe\">\n",
              "  <thead>\n",
              "    <tr style=\"text-align: right;\">\n",
              "      <th></th>\n",
              "      <th>x</th>\n",
              "      <th>y</th>\n",
              "      <th>z</th>\n",
              "    </tr>\n",
              "  </thead>\n",
              "  <tbody>\n",
              "    <tr>\n",
              "      <th>0</th>\n",
              "      <td>0.5</td>\n",
              "      <td>0.5</td>\n",
              "      <td>179</td>\n",
              "    </tr>\n",
              "    <tr>\n",
              "      <th>1</th>\n",
              "      <td>1.5</td>\n",
              "      <td>0.5</td>\n",
              "      <td>255</td>\n",
              "    </tr>\n",
              "    <tr>\n",
              "      <th>2</th>\n",
              "      <td>2.5</td>\n",
              "      <td>0.5</td>\n",
              "      <td>243</td>\n",
              "    </tr>\n",
              "    <tr>\n",
              "      <th>3</th>\n",
              "      <td>3.5</td>\n",
              "      <td>0.5</td>\n",
              "      <td>199</td>\n",
              "    </tr>\n",
              "    <tr>\n",
              "      <th>4</th>\n",
              "      <td>4.5</td>\n",
              "      <td>0.5</td>\n",
              "      <td>202</td>\n",
              "    </tr>\n",
              "    <tr>\n",
              "      <th>...</th>\n",
              "      <td>...</td>\n",
              "      <td>...</td>\n",
              "      <td>...</td>\n",
              "    </tr>\n",
              "    <tr>\n",
              "      <th>9211</th>\n",
              "      <td>91.5</td>\n",
              "      <td>95.5</td>\n",
              "      <td>226</td>\n",
              "    </tr>\n",
              "    <tr>\n",
              "      <th>9212</th>\n",
              "      <td>92.5</td>\n",
              "      <td>95.5</td>\n",
              "      <td>219</td>\n",
              "    </tr>\n",
              "    <tr>\n",
              "      <th>9213</th>\n",
              "      <td>93.5</td>\n",
              "      <td>95.5</td>\n",
              "      <td>223</td>\n",
              "    </tr>\n",
              "    <tr>\n",
              "      <th>9214</th>\n",
              "      <td>94.5</td>\n",
              "      <td>95.5</td>\n",
              "      <td>228</td>\n",
              "    </tr>\n",
              "    <tr>\n",
              "      <th>9215</th>\n",
              "      <td>95.5</td>\n",
              "      <td>95.5</td>\n",
              "      <td>228</td>\n",
              "    </tr>\n",
              "  </tbody>\n",
              "</table>\n",
              "<p>9216 rows × 3 columns</p>\n",
              "</div>\n",
              "      <button class=\"colab-df-convert\" onclick=\"convertToInteractive('df-0bd2ab65-e222-4dc8-9627-9e2fd98f76cd')\"\n",
              "              title=\"Convert this dataframe to an interactive table.\"\n",
              "              style=\"display:none;\">\n",
              "        \n",
              "  <svg xmlns=\"http://www.w3.org/2000/svg\" height=\"24px\"viewBox=\"0 0 24 24\"\n",
              "       width=\"24px\">\n",
              "    <path d=\"M0 0h24v24H0V0z\" fill=\"none\"/>\n",
              "    <path d=\"M18.56 5.44l.94 2.06.94-2.06 2.06-.94-2.06-.94-.94-2.06-.94 2.06-2.06.94zm-11 1L8.5 8.5l.94-2.06 2.06-.94-2.06-.94L8.5 2.5l-.94 2.06-2.06.94zm10 10l.94 2.06.94-2.06 2.06-.94-2.06-.94-.94-2.06-.94 2.06-2.06.94z\"/><path d=\"M17.41 7.96l-1.37-1.37c-.4-.4-.92-.59-1.43-.59-.52 0-1.04.2-1.43.59L10.3 9.45l-7.72 7.72c-.78.78-.78 2.05 0 2.83L4 21.41c.39.39.9.59 1.41.59.51 0 1.02-.2 1.41-.59l7.78-7.78 2.81-2.81c.8-.78.8-2.07 0-2.86zM5.41 20L4 18.59l7.72-7.72 1.47 1.35L5.41 20z\"/>\n",
              "  </svg>\n",
              "      </button>\n",
              "      \n",
              "  <style>\n",
              "    .colab-df-container {\n",
              "      display:flex;\n",
              "      flex-wrap:wrap;\n",
              "      gap: 12px;\n",
              "    }\n",
              "\n",
              "    .colab-df-convert {\n",
              "      background-color: #E8F0FE;\n",
              "      border: none;\n",
              "      border-radius: 50%;\n",
              "      cursor: pointer;\n",
              "      display: none;\n",
              "      fill: #1967D2;\n",
              "      height: 32px;\n",
              "      padding: 0 0 0 0;\n",
              "      width: 32px;\n",
              "    }\n",
              "\n",
              "    .colab-df-convert:hover {\n",
              "      background-color: #E2EBFA;\n",
              "      box-shadow: 0px 1px 2px rgba(60, 64, 67, 0.3), 0px 1px 3px 1px rgba(60, 64, 67, 0.15);\n",
              "      fill: #174EA6;\n",
              "    }\n",
              "\n",
              "    [theme=dark] .colab-df-convert {\n",
              "      background-color: #3B4455;\n",
              "      fill: #D2E3FC;\n",
              "    }\n",
              "\n",
              "    [theme=dark] .colab-df-convert:hover {\n",
              "      background-color: #434B5C;\n",
              "      box-shadow: 0px 1px 3px 1px rgba(0, 0, 0, 0.15);\n",
              "      filter: drop-shadow(0px 1px 2px rgba(0, 0, 0, 0.3));\n",
              "      fill: #FFFFFF;\n",
              "    }\n",
              "  </style>\n",
              "\n",
              "      <script>\n",
              "        const buttonEl =\n",
              "          document.querySelector('#df-0bd2ab65-e222-4dc8-9627-9e2fd98f76cd button.colab-df-convert');\n",
              "        buttonEl.style.display =\n",
              "          google.colab.kernel.accessAllowed ? 'block' : 'none';\n",
              "\n",
              "        async function convertToInteractive(key) {\n",
              "          const element = document.querySelector('#df-0bd2ab65-e222-4dc8-9627-9e2fd98f76cd');\n",
              "          const dataTable =\n",
              "            await google.colab.kernel.invokeFunction('convertToInteractive',\n",
              "                                                     [key], {});\n",
              "          if (!dataTable) return;\n",
              "\n",
              "          const docLinkHtml = 'Like what you see? Visit the ' +\n",
              "            '<a target=\"_blank\" href=https://colab.research.google.com/notebooks/data_table.ipynb>data table notebook</a>'\n",
              "            + ' to learn more about interactive tables.';\n",
              "          element.innerHTML = '';\n",
              "          dataTable['output_type'] = 'display_data';\n",
              "          await google.colab.output.renderOutput(dataTable, element);\n",
              "          const docLink = document.createElement('div');\n",
              "          docLink.innerHTML = docLinkHtml;\n",
              "          element.appendChild(docLink);\n",
              "        }\n",
              "      </script>\n",
              "    </div>\n",
              "  </div>\n",
              "  "
            ]
          },
          "metadata": {},
          "execution_count": 14
        }
      ]
    },
    {
      "cell_type": "markdown",
      "source": [
        "--------------------------------------------------------------------------------\n",
        "**So one .tif image has dimensions (96x96x3) where 3 corresponds to the number of channels that the image has.**"
      ],
      "metadata": {
        "id": "sjHqO3M2yytG"
      }
    },
    {
      "cell_type": "markdown",
      "source": [
        "## Complete Random Sampled load"
      ],
      "metadata": {
        "id": "W9Imd6VYyMym"
      }
    },
    {
      "cell_type": "code",
      "source": [
        "from PIL import Image"
      ],
      "metadata": {
        "id": "IRTIVYUrw_J7"
      },
      "execution_count": null,
      "outputs": []
    },
    {
      "cell_type": "code",
      "source": [
        "IMG_WIDTH=96\n",
        "IMG_HEIGHT=96\n",
        "img_folder=r'/content/drive/MyDrive/PRML project/Random_Sample/Train'"
      ],
      "metadata": {
        "id": "za2c_vCMxWev"
      },
      "execution_count": null,
      "outputs": []
    },
    {
      "cell_type": "code",
      "source": [
        "import random\n",
        "import matplotlib.image as mpimg\n",
        "%matplotlib inline"
      ],
      "metadata": {
        "id": "_EHYmnn3xYoZ"
      },
      "execution_count": null,
      "outputs": []
    },
    {
      "cell_type": "code",
      "source": [
        "def create_dataset_PIL(img_folder,labels):\n",
        "    \n",
        "    img_data_array=[]\n",
        "    class_name=[]\n",
        "    for file in range(len(labels)):\n",
        "       \n",
        "            image_path= os.path.join(img_folder,  labels['id'][file]+'.tif')\n",
        "            image= np.array(Image.open(image_path))\n",
        "            image = image.astype('float32')\n",
        "            image /= 255  \n",
        "            img_data_array.append(image)\n",
        "            class_name.append(labels['label'][file])\n",
        "    return img_data_array , class_name\n",
        "PIL_img_data, class_name=create_dataset_PIL(img_folder,labels)"
      ],
      "metadata": {
        "id": "ptB4u2FgxZFk"
      },
      "execution_count": null,
      "outputs": []
    },
    {
      "cell_type": "code",
      "source": [
        "len(PIL_img_data)"
      ],
      "metadata": {
        "colab": {
          "base_uri": "https://localhost:8080/"
        },
        "id": "o6ZPO_yUzrbg",
        "outputId": "439546be-931a-4965-cf6e-b9be21502c6a"
      },
      "execution_count": null,
      "outputs": [
        {
          "output_type": "execute_result",
          "data": {
            "text/plain": [
              "5500"
            ]
          },
          "metadata": {},
          "execution_count": 23
        }
      ]
    },
    {
      "cell_type": "code",
      "source": [
        "PIL_img_data[0].shape"
      ],
      "metadata": {
        "colab": {
          "base_uri": "https://localhost:8080/"
        },
        "id": "TokQdx1e2NSD",
        "outputId": "36163213-b525-479a-8909-2a0526739d75"
      },
      "execution_count": null,
      "outputs": [
        {
          "output_type": "execute_result",
          "data": {
            "text/plain": [
              "(96, 96, 3)"
            ]
          },
          "metadata": {},
          "execution_count": 24
        }
      ]
    },
    {
      "cell_type": "code",
      "source": [
        "a=PIL_img_data[0]\n",
        "plt.imshow(a)"
      ],
      "metadata": {
        "colab": {
          "base_uri": "https://localhost:8080/",
          "height": 289
        },
        "id": "JxdRMyXn2dbD",
        "outputId": "91e056b0-feee-4e6d-9be7-60522325476d"
      },
      "execution_count": null,
      "outputs": [
        {
          "output_type": "execute_result",
          "data": {
            "text/plain": [
              "<matplotlib.image.AxesImage at 0x7f35b983c3d0>"
            ]
          },
          "metadata": {},
          "execution_count": 25
        },
        {
          "output_type": "display_data",
          "data": {
            "text/plain": [
              "<Figure size 432x288 with 1 Axes>"
            ],
            "image/png": "[encoded data removed]"
          },
          "metadata": {
            "needs_background": "light"
          }
        }
      ]
    },
    {
      "cell_type": "code",
      "source": [
        "PIL_img_data[0]"
      ],
      "metadata": {
        "colab": {
          "base_uri": "https://localhost:8080/"
        },
        "id": "-o0Wvp7f38xK",
        "outputId": "0b112612-6252-4e8d-e48c-a1ad47147baf"
      },
      "execution_count": null,
      "outputs": [
        {
          "output_type": "execute_result",
          "data": {
            "text/plain": [
              "array([[[0.69411767, 0.34901962, 0.7411765 ],\n",
              "        [0.8352941 , 0.53333336, 0.9098039 ],\n",
              "        [0.54901963, 0.3137255 , 0.6666667 ],\n",
              "        ...,\n",
              "        [0.8901961 , 0.7176471 , 1.        ],\n",
              "        [0.2901961 , 0.15294118, 0.52156866],\n",
              "        [0.21960784, 0.09411765, 0.5137255 ]],\n",
              "\n",
              "       [[0.5137255 , 0.21568628, 0.60784316],\n",
              "        [0.68235296, 0.41960785, 0.8       ],\n",
              "        [0.40784314, 0.19215687, 0.5568628 ],\n",
              "        ...,\n",
              "        [0.8862745 , 0.72156864, 0.96862745],\n",
              "        [0.72156864, 0.56078434, 0.8666667 ],\n",
              "        [0.27058825, 0.09411765, 0.45882353]],\n",
              "\n",
              "       [[0.32156864, 0.10196079, 0.48235294],\n",
              "        [0.47843137, 0.26666668, 0.6431373 ],\n",
              "        [0.49411765, 0.29803923, 0.67058825],\n",
              "        ...,\n",
              "        [0.8627451 , 0.70980394, 0.88235295],\n",
              "        [0.7647059 , 0.5647059 , 0.79607844],\n",
              "        [0.4745098 , 0.23137255, 0.5176471 ]],\n",
              "\n",
              "       ...,\n",
              "\n",
              "       [[0.45882353, 0.4117647 , 0.67058825],\n",
              "        [0.16078432, 0.06666667, 0.3647059 ],\n",
              "        [0.4392157 , 0.29803923, 0.6431373 ],\n",
              "        ...,\n",
              "        [0.27058825, 0.10980392, 0.4862745 ],\n",
              "        [0.5529412 , 0.32156864, 0.6901961 ],\n",
              "        [0.627451  , 0.34117648, 0.7019608 ]],\n",
              "\n",
              "       [[0.07843138, 0.09803922, 0.35686275],\n",
              "        [0.05490196, 0.        , 0.28627452],\n",
              "        [0.25490198, 0.08235294, 0.43137255],\n",
              "        ...,\n",
              "        [0.2784314 , 0.07843138, 0.4392157 ],\n",
              "        [0.63529414, 0.3529412 , 0.68235296],\n",
              "        [0.8627451 , 0.52156866, 0.83137256]],\n",
              "\n",
              "       [[0.07058824, 0.11764706, 0.34509805],\n",
              "        [0.1764706 , 0.10980392, 0.38431373],\n",
              "        [0.28627452, 0.07843138, 0.4       ],\n",
              "        ...,\n",
              "        [0.5019608 , 0.26666668, 0.6039216 ],\n",
              "        [0.7372549 , 0.40784314, 0.70980394],\n",
              "        [0.85490197, 0.4627451 , 0.7372549 ]]], dtype=float32)"
            ]
          },
          "metadata": {},
          "execution_count": 26
        }
      ]
    },
    {
      "cell_type": "code",
      "source": [
        "flatten=[]\n",
        "for i in PIL_img_data:\n",
        "  flatten.append(i.flatten())\n",
        "flatten = np.array(flatten)\n",
        "flatten.shape"
      ],
      "metadata": {
        "colab": {
          "base_uri": "https://localhost:8080/"
        },
        "id": "wxDwuxNe7HVz",
        "outputId": "4b8f0dae-5798-44ee-cbaf-d3762bc2cd0e"
      },
      "execution_count": null,
      "outputs": [
        {
          "output_type": "execute_result",
          "data": {
            "text/plain": [
              "(5500, 27648)"
            ]
          },
          "metadata": {},
          "execution_count": 27
        }
      ]
    },
    {
      "cell_type": "code",
      "source": [
        "# import scipy.cluster.hierarchy as shc\n",
        "# from matplotlib import pyplot\n",
        "# pyplot.figure(figsize=(10, 7))  \n",
        "# pyplot.title(\"Dendrograms\")  \n",
        "# dend = shc.dendrogram(shc.linkage(flatten, method='ward'))"
      ],
      "metadata": {
        "id": "xUOuE5KT4p3-"
      },
      "execution_count": null,
      "outputs": []
    },
    {
      "cell_type": "code",
      "source": [
        "flatten.shape"
      ],
      "metadata": {
        "colab": {
          "base_uri": "https://localhost:8080/"
        },
        "id": "eiQYVoV1o6oD",
        "outputId": "82422316-ec87-43ea-a17e-3550f1a3d80e"
      },
      "execution_count": null,
      "outputs": [
        {
          "output_type": "execute_result",
          "data": {
            "text/plain": [
              "(5500, 27648)"
            ]
          },
          "metadata": {},
          "execution_count": 29
        }
      ]
    },
    {
      "cell_type": "code",
      "source": [
        ""
      ],
      "metadata": {
        "id": "tcOjjvVZwHxc"
      },
      "execution_count": null,
      "outputs": []
    },
    {
      "cell_type": "markdown",
      "source": [
        "## Principal Component Analysis"
      ],
      "metadata": {
        "id": "7S-2o_0prqxz"
      }
    },
    {
      "cell_type": "code",
      "source": [
        "pca = PCA(n_components = 0.98)\n",
        "pca.fit(flatten,class_name)"
      ],
      "metadata": {
        "colab": {
          "base_uri": "https://localhost:8080/"
        },
        "id": "0N1JeG9919tV",
        "outputId": "d12e9d0a-60bb-442b-9cf2-aa38c87977b5"
      },
      "execution_count": null,
      "outputs": [
        {
          "output_type": "execute_result",
          "data": {
            "text/plain": [
              "PCA(n_components=0.98)"
            ]
          },
          "metadata": {},
          "execution_count": 19
        }
      ]
    },
    {
      "cell_type": "code",
      "source": [
        "pca_data = pca.transform(flatten)\n",
        "print(\"number of features is : \",len(pca_data[0]))"
      ],
      "metadata": {
        "colab": {
          "base_uri": "https://localhost:8080/"
        },
        "id": "mghJkBtv2S_N",
        "outputId": "07d1c140-b982-4dc6-884b-3f222fd17d4d"
      },
      "execution_count": null,
      "outputs": [
        {
          "output_type": "stream",
          "name": "stdout",
          "text": [
            "number of features is :  3400\n"
          ]
        }
      ]
    },
    {
      "cell_type": "code",
      "source": [
        "pca = PCA(n_components= 0.95)\n",
        "pca.fit(flatten,class_name)"
      ],
      "metadata": {
        "colab": {
          "base_uri": "https://localhost:8080/"
        },
        "id": "gPouzfGnnjgE",
        "outputId": "ff050127-1592-4cf9-822a-f4cbc3ce3af8"
      },
      "execution_count": null,
      "outputs": [
        {
          "output_type": "execute_result",
          "data": {
            "text/plain": [
              "PCA(n_components=0.95)"
            ]
          },
          "metadata": {},
          "execution_count": 21
        }
      ]
    },
    {
      "cell_type": "code",
      "source": [
        "pca_data = pca.transform(flatten)\n",
        "print(\"number of features is : \",len(pca_data[0]))"
      ],
      "metadata": {
        "colab": {
          "base_uri": "https://localhost:8080/"
        },
        "id": "vI21-sTE2Ov3",
        "outputId": "ecfc4342-afeb-4fb7-9620-c7135ba825d0"
      },
      "execution_count": null,
      "outputs": [
        {
          "output_type": "stream",
          "name": "stdout",
          "text": [
            "number of features is :  2432\n"
          ]
        }
      ]
    },
    {
      "cell_type": "code",
      "source": [
        "pca = PCA(n_components = 0.9)\n",
        "pca.fit(flatten,class_name)"
      ],
      "metadata": {
        "id": "S5ptKcjf2RUK"
      },
      "execution_count": null,
      "outputs": []
    },
    {
      "cell_type": "code",
      "source": [
        "pca_data = pca.transform(flatten)\n",
        "print(\"number of features is : \",len(pca_data[0]))"
      ],
      "metadata": {
        "id": "A50exGRhx57U"
      },
      "execution_count": null,
      "outputs": []
    },
    {
      "cell_type": "code",
      "source": [
        "pca = PCA(n_components = 2)\n",
        "pca.fit(flatten,class_name)"
      ],
      "metadata": {
        "id": "d5DOcYzH_ckK",
        "colab": {
          "base_uri": "https://localhost:8080/"
        },
        "outputId": "95dd9181-fd69-4200-8307-37e465ec2bea"
      },
      "execution_count": null,
      "outputs": [
        {
          "output_type": "execute_result",
          "data": {
            "text/plain": [
              "PCA(n_components=2)"
            ]
          },
          "metadata": {},
          "execution_count": 15
        }
      ]
    },
    {
      "cell_type": "code",
      "source": [
        "pca_data = pca.transform(flatten)\n",
        "plt.figure()\n",
        "splot = plt.subplot(1,1,1)\n",
        "splot.scatter(pca_data[0],pca_data[1])\n",
        "plt.title('PCA1 vs PCA2')\n",
        "plt.xlabel('PCA1')\n",
        "plt.ylabel('PCA2')\n",
        "plt.show()"
      ],
      "metadata": {
        "id": "4oL3m4Qy_gXK",
        "colab": {
          "base_uri": "https://localhost:8080/",
          "height": 301
        },
        "outputId": "9d5e728e-e26b-4774-bc34-72e1cc9d39c2"
      },
      "execution_count": null,
      "outputs": [
        {
          "output_type": "display_data",
          "data": {
            "text/plain": [
              "<Figure size 432x288 with 1 Axes>"
            ],
            "image/png": "[encoded data removed]"
          },
          "metadata": {
            "needs_background": "light"
          }
        }
      ]
    },
    {
      "cell_type": "code",
      "source": [
        "pca80 = PCA(n_components = 0.8)\n",
        "pca80.fit(flatten,class_name)\n",
        "pca_data80 = pca80.transform(flatten)"
      ],
      "metadata": {
        "id": "v3xbOY7yFt4h"
      },
      "execution_count": null,
      "outputs": []
    },
    {
      "cell_type": "code",
      "source": [
        "lda = LDA(store_covariance= True)\n",
        "lda.fit(pca_data80,class_name)\n",
        "lda_data = lda.transform(pca_data80)"
      ],
      "metadata": {
        "id": "4HHotYg0GPYB"
      },
      "execution_count": null,
      "outputs": []
    },
    {
      "cell_type": "code",
      "source": [
        "pca90 = PCA(n_components = 0.9)\n",
        "pca90.fit(flatten,class_name)\n",
        "pca_data90 = pca90.transform(flatten)"
      ],
      "metadata": {
        "id": "9YPjAhFrKcSG"
      },
      "execution_count": null,
      "outputs": []
    },
    {
      "cell_type": "code",
      "source": [
        "lda = LDA(store_covariance= True)\n",
        "lda.fit(pca_data90,class_name)\n",
        "lda_data90 = lda.transform(pca_data90)"
      ],
      "metadata": {
        "id": "R23RAzmfKlDo"
      },
      "execution_count": null,
      "outputs": []
    },
    {
      "cell_type": "markdown",
      "source": [
        "## Models - Without PCA"
      ],
      "metadata": {
        "id": "iHiUxNhzVgzO"
      }
    },
    {
      "cell_type": "code",
      "source": [
        "X_train,X_test,y_train,y_test=train_test_split(flatten,class_name,stratify=class_name,train_size=0.8,random_state=10)"
      ],
      "metadata": {
        "id": "r1ve-xvR7KLL"
      },
      "execution_count": null,
      "outputs": []
    },
    {
      "cell_type": "markdown",
      "source": [
        "### Linear Support Vector Classifier"
      ],
      "metadata": {
        "id": "QEUMUjWSWrGL"
      }
    },
    {
      "cell_type": "code",
      "source": [
        "from sklearn.metrics import classification_report"
      ],
      "metadata": {
        "id": "FgjdYnuBY5uB"
      },
      "execution_count": null,
      "outputs": []
    },
    {
      "cell_type": "code",
      "source": [
        "from sklearn.svm import LinearSVC\n",
        "from sklearn.preprocessing import StandardScaler"
      ],
      "metadata": {
        "id": "Kj-tzdYxWEfd"
      },
      "execution_count": null,
      "outputs": []
    },
    {
      "cell_type": "code",
      "source": [
        "from sklearn.pipeline import make_pipeline"
      ],
      "metadata": {
        "id": "p23O8WRAWNBW"
      },
      "execution_count": null,
      "outputs": []
    },
    {
      "cell_type": "code",
      "source": [
        "clf = make_pipeline(StandardScaler(), LinearSVC(random_state=0, tol=1e-5))\n",
        "clf.fit(X_train,y_train)"
      ],
      "metadata": {
        "id": "8OdaJOGsWVcA",
        "colab": {
          "base_uri": "https://localhost:8080/"
        },
        "outputId": "6c678a96-8175-493f-d55e-7d87691dad8e"
      },
      "execution_count": null,
      "outputs": [
        {
          "output_type": "execute_result",
          "data": {
            "text/plain": [
              "Pipeline(steps=[('standardscaler', StandardScaler()),\n",
              "                ('linearsvc', LinearSVC(random_state=0, tol=1e-05))])"
            ]
          },
          "metadata": {},
          "execution_count": 25
        }
      ]
    },
    {
      "cell_type": "code",
      "source": [
        "from sklearn.metrics import accuracy_score"
      ],
      "metadata": {
        "id": "HIxMOgpmWiDv"
      },
      "execution_count": null,
      "outputs": []
    },
    {
      "cell_type": "code",
      "source": [
        "y_pred=clf.predict(X_test)\n",
        "acc=classification_report(y_test, y_pred)\n",
        "print(acc)"
      ],
      "metadata": {
        "id": "A92BHAqaXMDY",
        "colab": {
          "base_uri": "https://localhost:8080/"
        },
        "outputId": "3363d387-52e1-46e6-fbb6-ed2d2d1395c2"
      },
      "execution_count": null,
      "outputs": [
        {
          "output_type": "stream",
          "name": "stdout",
          "text": [
            "              precision    recall  f1-score   support\n",
            "\n",
            "           0       0.69      0.65      0.67       654\n",
            "           1       0.52      0.57      0.54       446\n",
            "\n",
            "    accuracy                           0.61      1100\n",
            "   macro avg       0.60      0.61      0.60      1100\n",
            "weighted avg       0.62      0.61      0.62      1100\n",
            "\n"
          ]
        }
      ]
    },
    {
      "cell_type": "markdown",
      "source": [
        "### KNN"
      ],
      "metadata": {
        "id": "jGocbuEUYA3J"
      }
    },
    {
      "cell_type": "code",
      "source": [
        "from sklearn.neighbors import KNeighborsClassifier"
      ],
      "metadata": {
        "id": "9SRWAXO6Xe0c"
      },
      "execution_count": null,
      "outputs": []
    },
    {
      "cell_type": "code",
      "source": [
        "neigh = KNeighborsClassifier(n_neighbors=5)\n",
        "neigh.fit(X_train, y_train)"
      ],
      "metadata": {
        "id": "_jAF5qkhYAEK",
        "colab": {
          "base_uri": "https://localhost:8080/"
        },
        "outputId": "bfa12cd7-3d84-4d82-c348-1bed5471168a"
      },
      "execution_count": null,
      "outputs": [
        {
          "output_type": "execute_result",
          "data": {
            "text/plain": [
              "KNeighborsClassifier()"
            ]
          },
          "metadata": {},
          "execution_count": 29
        }
      ]
    },
    {
      "cell_type": "code",
      "source": [
        "y_pred=neigh.predict(X_test)\n",
        "acc=classification_report(y_test, y_pred)\n",
        "print(acc)"
      ],
      "metadata": {
        "id": "R-rW7ZY1YX7l",
        "colab": {
          "base_uri": "https://localhost:8080/"
        },
        "outputId": "00c2e7e5-548f-48cc-9796-e67e943f9ec9"
      },
      "execution_count": null,
      "outputs": [
        {
          "output_type": "stream",
          "name": "stdout",
          "text": [
            "              precision    recall  f1-score   support\n",
            "\n",
            "           0       0.77      0.53      0.62       654\n",
            "           1       0.53      0.77      0.62       446\n",
            "\n",
            "    accuracy                           0.62      1100\n",
            "   macro avg       0.65      0.65      0.62      1100\n",
            "weighted avg       0.67      0.62      0.62      1100\n",
            "\n"
          ]
        }
      ]
    },
    {
      "cell_type": "markdown",
      "source": [
        "### RBF SVM"
      ],
      "metadata": {
        "id": "OsFLPyjzYhOl"
      }
    },
    {
      "cell_type": "code",
      "source": [
        "from sklearn.svm import SVC"
      ],
      "metadata": {
        "id": "-nqPkYSBYo4T"
      },
      "execution_count": null,
      "outputs": []
    },
    {
      "cell_type": "code",
      "source": [
        "clf = make_pipeline(StandardScaler(), SVC(random_state=0, gamma='auto'))\n",
        "clf.fit(X_train,y_train)"
      ],
      "metadata": {
        "id": "hRwasqjHYxFF",
        "colab": {
          "base_uri": "https://localhost:8080/"
        },
        "outputId": "1e4c8672-0003-4136-c33a-dbb800a0fc2e"
      },
      "execution_count": null,
      "outputs": [
        {
          "output_type": "execute_result",
          "data": {
            "text/plain": [
              "Pipeline(steps=[('standardscaler', StandardScaler()),\n",
              "                ('svc', SVC(gamma='auto', random_state=0))])"
            ]
          },
          "metadata": {},
          "execution_count": 32
        }
      ]
    },
    {
      "cell_type": "code",
      "source": [
        "y_pred=clf.predict(X_test)\n",
        "acc=classification_report(y_test, y_pred)\n",
        "print(acc)"
      ],
      "metadata": {
        "id": "B0l6An_XY5Bg",
        "colab": {
          "base_uri": "https://localhost:8080/"
        },
        "outputId": "6cefb3c4-c3e9-451f-d3ad-caf63958a4fd"
      },
      "execution_count": null,
      "outputs": [
        {
          "output_type": "stream",
          "name": "stdout",
          "text": [
            "              precision    recall  f1-score   support\n",
            "\n",
            "           0       0.80      0.86      0.83       654\n",
            "           1       0.77      0.68      0.72       446\n",
            "\n",
            "    accuracy                           0.79      1100\n",
            "   macro avg       0.78      0.77      0.78      1100\n",
            "weighted avg       0.79      0.79      0.79      1100\n",
            "\n"
          ]
        }
      ]
    },
    {
      "cell_type": "markdown",
      "source": [
        "### Light GBM"
      ],
      "metadata": {
        "id": "MeK9TMkUWCpb"
      }
    },
    {
      "cell_type": "code",
      "source": [
        "lgbm = LGBMClassifier()\n",
        "lgbm.fit(X_train,y_train)"
      ],
      "metadata": {
        "id": "-KBCZ0haWCpc",
        "colab": {
          "base_uri": "https://localhost:8080/"
        },
        "outputId": "d8ef6d17-b582-497b-f338-14cf7d8a3c74"
      },
      "execution_count": null,
      "outputs": [
        {
          "output_type": "execute_result",
          "data": {
            "text/plain": [
              "LGBMClassifier()"
            ]
          },
          "metadata": {},
          "execution_count": 34
        }
      ]
    },
    {
      "cell_type": "code",
      "source": [
        "y_pred = lgbm.predict(X_test)\n",
        "acc = classification_report(y_test,y_pred)\n",
        "print(acc)"
      ],
      "metadata": {
        "id": "rx9dXaZ7WCpc",
        "colab": {
          "base_uri": "https://localhost:8080/"
        },
        "outputId": "57aa6ccb-309e-4f38-f447-02e57fae8bc1"
      },
      "execution_count": null,
      "outputs": [
        {
          "output_type": "stream",
          "name": "stdout",
          "text": [
            "              precision    recall  f1-score   support\n",
            "\n",
            "           0       0.79      0.87      0.83       654\n",
            "           1       0.78      0.66      0.72       446\n",
            "\n",
            "    accuracy                           0.79      1100\n",
            "   macro avg       0.79      0.77      0.77      1100\n",
            "weighted avg       0.79      0.79      0.78      1100\n",
            "\n"
          ]
        }
      ]
    },
    {
      "cell_type": "code",
      "source": [
        ""
      ],
      "metadata": {
        "id": "-DyUVTcKWCpc"
      },
      "execution_count": null,
      "outputs": []
    },
    {
      "cell_type": "code",
      "source": [
        ""
      ],
      "metadata": {
        "id": "3_YMTlQIaoKV"
      },
      "execution_count": null,
      "outputs": []
    },
    {
      "cell_type": "markdown",
      "source": [
        "## Models - With PCA 2 components"
      ],
      "metadata": {
        "id": "OKoCO36RDHiW"
      }
    },
    {
      "cell_type": "code",
      "source": [
        "X_train,X_test,y_train,y_test=train_test_split(pca_data,class_name,stratify=class_name,train_size=0.8,random_state=10)"
      ],
      "metadata": {
        "id": "AfDvLJhzDHig"
      },
      "execution_count": null,
      "outputs": []
    },
    {
      "cell_type": "markdown",
      "source": [
        "### Linear Support Vector Classifier"
      ],
      "metadata": {
        "id": "i9S82HGbDHig"
      }
    },
    {
      "cell_type": "code",
      "source": [
        "from sklearn.metrics import classification_report"
      ],
      "metadata": {
        "id": "YOoWOPDsDHig"
      },
      "execution_count": null,
      "outputs": []
    },
    {
      "cell_type": "code",
      "source": [
        "from sklearn.svm import LinearSVC\n",
        "from sklearn.preprocessing import StandardScaler"
      ],
      "metadata": {
        "id": "wOO0KrlPDHih"
      },
      "execution_count": null,
      "outputs": []
    },
    {
      "cell_type": "code",
      "source": [
        "from sklearn.pipeline import make_pipeline"
      ],
      "metadata": {
        "id": "fp4A0vZZDHih"
      },
      "execution_count": null,
      "outputs": []
    },
    {
      "cell_type": "code",
      "source": [
        "clf = make_pipeline(StandardScaler(), LinearSVC(random_state=0, tol=1e-5))\n",
        "clf.fit(X_train,y_train)"
      ],
      "metadata": {
        "id": "9diyMty8DHih",
        "colab": {
          "base_uri": "https://localhost:8080/"
        },
        "outputId": "b3aad442-dcd5-4fce-baba-97796b6a051b"
      },
      "execution_count": null,
      "outputs": [
        {
          "output_type": "execute_result",
          "data": {
            "text/plain": [
              "Pipeline(steps=[('standardscaler', StandardScaler()),\n",
              "                ('linearsvc', LinearSVC(random_state=0, tol=1e-05))])"
            ]
          },
          "metadata": {},
          "execution_count": 40
        }
      ]
    },
    {
      "cell_type": "code",
      "source": [
        "from sklearn.metrics import accuracy_score"
      ],
      "metadata": {
        "id": "58L_CbY3DHih"
      },
      "execution_count": null,
      "outputs": []
    },
    {
      "cell_type": "code",
      "source": [
        "y_pred=clf.predict(X_test)\n",
        "acc=classification_report(y_test, y_pred)\n",
        "print(acc)"
      ],
      "metadata": {
        "id": "7iRYC_vzDHii",
        "colab": {
          "base_uri": "https://localhost:8080/"
        },
        "outputId": "67b3cad5-063b-4641-df9d-16a58371cd89"
      },
      "execution_count": null,
      "outputs": [
        {
          "output_type": "stream",
          "name": "stdout",
          "text": [
            "              precision    recall  f1-score   support\n",
            "\n",
            "           0       0.67      0.83      0.74       654\n",
            "           1       0.60      0.39      0.47       446\n",
            "\n",
            "    accuracy                           0.65      1100\n",
            "   macro avg       0.63      0.61      0.61      1100\n",
            "weighted avg       0.64      0.65      0.63      1100\n",
            "\n"
          ]
        }
      ]
    },
    {
      "cell_type": "markdown",
      "source": [
        "### KNN"
      ],
      "metadata": {
        "id": "tQBmoyiKDHii"
      }
    },
    {
      "cell_type": "code",
      "source": [
        "from sklearn.neighbors import KNeighborsClassifier"
      ],
      "metadata": {
        "id": "lERbD-pIDHii"
      },
      "execution_count": null,
      "outputs": []
    },
    {
      "cell_type": "code",
      "source": [
        "neigh = KNeighborsClassifier(n_neighbors=5)\n",
        "neigh.fit(X_train, y_train)"
      ],
      "metadata": {
        "id": "HKk18y0_DHii",
        "colab": {
          "base_uri": "https://localhost:8080/"
        },
        "outputId": "8d7c47ea-4d48-4b43-8e9e-b83865c6e970"
      },
      "execution_count": null,
      "outputs": [
        {
          "output_type": "execute_result",
          "data": {
            "text/plain": [
              "KNeighborsClassifier()"
            ]
          },
          "metadata": {},
          "execution_count": 44
        }
      ]
    },
    {
      "cell_type": "code",
      "source": [
        "y_pred=neigh.predict(X_test)\n",
        "acc=classification_report(y_test, y_pred)\n",
        "print(acc)"
      ],
      "metadata": {
        "id": "HydvfBeqDHij",
        "colab": {
          "base_uri": "https://localhost:8080/"
        },
        "outputId": "1a764f12-258a-4971-cf12-df3d124e28bc"
      },
      "execution_count": null,
      "outputs": [
        {
          "output_type": "stream",
          "name": "stdout",
          "text": [
            "              precision    recall  f1-score   support\n",
            "\n",
            "           0       0.71      0.73      0.72       654\n",
            "           1       0.59      0.56      0.57       446\n",
            "\n",
            "    accuracy                           0.66      1100\n",
            "   macro avg       0.65      0.65      0.65      1100\n",
            "weighted avg       0.66      0.66      0.66      1100\n",
            "\n"
          ]
        }
      ]
    },
    {
      "cell_type": "markdown",
      "source": [
        "### RBF SVM"
      ],
      "metadata": {
        "id": "Lwj3fh0SDHij"
      }
    },
    {
      "cell_type": "code",
      "source": [
        "from sklearn.svm import SVC"
      ],
      "metadata": {
        "id": "LRWkp2ZCDHij"
      },
      "execution_count": null,
      "outputs": []
    },
    {
      "cell_type": "code",
      "source": [
        "clf = make_pipeline(StandardScaler(), SVC(random_state=0, gamma='auto'))\n",
        "clf.fit(X_train,y_train)"
      ],
      "metadata": {
        "id": "Jgpwfo8RDHij",
        "colab": {
          "base_uri": "https://localhost:8080/"
        },
        "outputId": "4d2c4955-14e8-4336-b433-fe089db54424"
      },
      "execution_count": null,
      "outputs": [
        {
          "output_type": "execute_result",
          "data": {
            "text/plain": [
              "Pipeline(steps=[('standardscaler', StandardScaler()),\n",
              "                ('svc', SVC(gamma='auto', random_state=0))])"
            ]
          },
          "metadata": {},
          "execution_count": 47
        }
      ]
    },
    {
      "cell_type": "code",
      "source": [
        "y_pred=clf.predict(X_test)\n",
        "acc=classification_report(y_test, y_pred)\n",
        "print(acc)"
      ],
      "metadata": {
        "id": "qbFiY-GzDHij",
        "colab": {
          "base_uri": "https://localhost:8080/"
        },
        "outputId": "f7603084-330a-49fa-dac7-910dffe1c1b9"
      },
      "execution_count": null,
      "outputs": [
        {
          "output_type": "stream",
          "name": "stdout",
          "text": [
            "              precision    recall  f1-score   support\n",
            "\n",
            "           0       0.74      0.75      0.74       654\n",
            "           1       0.62      0.62      0.62       446\n",
            "\n",
            "    accuracy                           0.69      1100\n",
            "   macro avg       0.68      0.68      0.68      1100\n",
            "weighted avg       0.69      0.69      0.69      1100\n",
            "\n"
          ]
        }
      ]
    },
    {
      "cell_type": "markdown",
      "source": [
        "### Light GBM"
      ],
      "metadata": {
        "id": "dnlYjz2QWA--"
      }
    },
    {
      "cell_type": "code",
      "source": [
        "lgbm = LGBMClassifier()\n",
        "lgbm.fit(X_train,y_train)"
      ],
      "metadata": {
        "id": "WLA3wQkyWA--",
        "colab": {
          "base_uri": "https://localhost:8080/"
        },
        "outputId": "22ea0a92-d681-46c8-ee28-8bfadb75c4d9"
      },
      "execution_count": null,
      "outputs": [
        {
          "output_type": "execute_result",
          "data": {
            "text/plain": [
              "LGBMClassifier()"
            ]
          },
          "metadata": {},
          "execution_count": 49
        }
      ]
    },
    {
      "cell_type": "code",
      "source": [
        "y_pred = lgbm.predict(X_test)\n",
        "acc = classification_report(y_test,y_pred)\n",
        "print(acc)"
      ],
      "metadata": {
        "id": "9rbBOOP3WA--",
        "colab": {
          "base_uri": "https://localhost:8080/"
        },
        "outputId": "c38bc974-b2a2-4115-952d-1677501ab73c"
      },
      "execution_count": null,
      "outputs": [
        {
          "output_type": "stream",
          "name": "stdout",
          "text": [
            "              precision    recall  f1-score   support\n",
            "\n",
            "           0       0.72      0.77      0.74       654\n",
            "           1       0.62      0.55      0.59       446\n",
            "\n",
            "    accuracy                           0.68      1100\n",
            "   macro avg       0.67      0.66      0.66      1100\n",
            "weighted avg       0.68      0.68      0.68      1100\n",
            "\n"
          ]
        }
      ]
    },
    {
      "cell_type": "code",
      "source": [
        ""
      ],
      "metadata": {
        "id": "2EgLOE9NWA--"
      },
      "execution_count": null,
      "outputs": []
    },
    {
      "cell_type": "code",
      "source": [
        ""
      ],
      "metadata": {
        "id": "iKuJrtKJDHik"
      },
      "execution_count": null,
      "outputs": []
    },
    {
      "cell_type": "markdown",
      "source": [
        "## Models - With PCA 0.8"
      ],
      "metadata": {
        "id": "KbKAvstNJg9w"
      }
    },
    {
      "cell_type": "code",
      "source": [
        "X_train,X_test,y_train,y_test=train_test_split(pca_data80,class_name,stratify=class_name,train_size=0.8,random_state=10)"
      ],
      "metadata": {
        "id": "fMFn3bJ0Jg9x"
      },
      "execution_count": null,
      "outputs": []
    },
    {
      "cell_type": "markdown",
      "source": [
        "### Linear Support Vector Classifier"
      ],
      "metadata": {
        "id": "-WADhWfcJg9x"
      }
    },
    {
      "cell_type": "code",
      "source": [
        "from sklearn.metrics import classification_report"
      ],
      "metadata": {
        "id": "rJ1_32pLJg9x"
      },
      "execution_count": null,
      "outputs": []
    },
    {
      "cell_type": "code",
      "source": [
        "from sklearn.svm import LinearSVC\n",
        "from sklearn.preprocessing import StandardScaler"
      ],
      "metadata": {
        "id": "mrbj784QJg9x"
      },
      "execution_count": null,
      "outputs": []
    },
    {
      "cell_type": "code",
      "source": [
        "from sklearn.pipeline import make_pipeline"
      ],
      "metadata": {
        "id": "bDMsNoJjJg9y"
      },
      "execution_count": null,
      "outputs": []
    },
    {
      "cell_type": "code",
      "source": [
        "clf = make_pipeline(StandardScaler(), LinearSVC(random_state=0, tol=1e-5))\n",
        "clf.fit(X_train,y_train)"
      ],
      "metadata": {
        "id": "mTpwQpXQJg9y",
        "colab": {
          "base_uri": "https://localhost:8080/"
        },
        "outputId": "e0ce175b-6505-496e-a4d7-aad5cc20fd73"
      },
      "execution_count": null,
      "outputs": [
        {
          "output_type": "execute_result",
          "data": {
            "text/plain": [
              "Pipeline(steps=[('standardscaler', StandardScaler()),\n",
              "                ('linearsvc', LinearSVC(random_state=0, tol=1e-05))])"
            ]
          },
          "metadata": {},
          "execution_count": 55
        }
      ]
    },
    {
      "cell_type": "code",
      "source": [
        "from sklearn.metrics import accuracy_score"
      ],
      "metadata": {
        "id": "KUwnRB_XJg9y"
      },
      "execution_count": null,
      "outputs": []
    },
    {
      "cell_type": "code",
      "source": [
        "y_pred=clf.predict(X_test)\n",
        "acc=classification_report(y_test, y_pred)\n",
        "print(acc)"
      ],
      "metadata": {
        "id": "f5kMVgbeJg9y",
        "colab": {
          "base_uri": "https://localhost:8080/"
        },
        "outputId": "bc7f29b0-e6f5-46ee-e5a9-f1fbc60aa67c"
      },
      "execution_count": null,
      "outputs": [
        {
          "output_type": "stream",
          "name": "stdout",
          "text": [
            "              precision    recall  f1-score   support\n",
            "\n",
            "           0       0.70      0.68      0.69       654\n",
            "           1       0.55      0.58      0.57       446\n",
            "\n",
            "    accuracy                           0.64      1100\n",
            "   macro avg       0.63      0.63      0.63      1100\n",
            "weighted avg       0.64      0.64      0.64      1100\n",
            "\n"
          ]
        }
      ]
    },
    {
      "cell_type": "markdown",
      "source": [
        "### KNN"
      ],
      "metadata": {
        "id": "escIngjdJg9y"
      }
    },
    {
      "cell_type": "code",
      "source": [
        "from sklearn.neighbors import KNeighborsClassifier"
      ],
      "metadata": {
        "id": "9WfZ9aDzJg9z"
      },
      "execution_count": null,
      "outputs": []
    },
    {
      "cell_type": "code",
      "source": [
        "neigh = KNeighborsClassifier(n_neighbors=5)\n",
        "neigh.fit(X_train, y_train)"
      ],
      "metadata": {
        "id": "vLusT0pNJg9z",
        "colab": {
          "base_uri": "https://localhost:8080/"
        },
        "outputId": "002ba738-50c7-43b9-8832-7e48db49b8f7"
      },
      "execution_count": null,
      "outputs": [
        {
          "output_type": "execute_result",
          "data": {
            "text/plain": [
              "KNeighborsClassifier()"
            ]
          },
          "metadata": {},
          "execution_count": 59
        }
      ]
    },
    {
      "cell_type": "code",
      "source": [
        "y_pred=neigh.predict(X_test)\n",
        "acc=classification_report(y_test, y_pred)\n",
        "print(acc)"
      ],
      "metadata": {
        "id": "VXujifxkJg9z",
        "colab": {
          "base_uri": "https://localhost:8080/"
        },
        "outputId": "63f393ff-f3c4-4f59-a2f6-b8b6c17433fe"
      },
      "execution_count": null,
      "outputs": [
        {
          "output_type": "stream",
          "name": "stdout",
          "text": [
            "              precision    recall  f1-score   support\n",
            "\n",
            "           0       0.78      0.49      0.60       654\n",
            "           1       0.51      0.79      0.62       446\n",
            "\n",
            "    accuracy                           0.61      1100\n",
            "   macro avg       0.65      0.64      0.61      1100\n",
            "weighted avg       0.67      0.61      0.61      1100\n",
            "\n"
          ]
        }
      ]
    },
    {
      "cell_type": "markdown",
      "source": [
        "### RBF SVM"
      ],
      "metadata": {
        "id": "MuguKkkYJg9z"
      }
    },
    {
      "cell_type": "code",
      "source": [
        "from sklearn.svm import SVC"
      ],
      "metadata": {
        "id": "UawaRIKbJg9z"
      },
      "execution_count": null,
      "outputs": []
    },
    {
      "cell_type": "code",
      "source": [
        "clf = make_pipeline(StandardScaler(), SVC(random_state=0, gamma='auto'))\n",
        "clf.fit(X_train,y_train)"
      ],
      "metadata": {
        "id": "iwqGLstuJg9z",
        "colab": {
          "base_uri": "https://localhost:8080/"
        },
        "outputId": "7e484e48-6a0d-4a4b-e0a2-a5d2991f6524"
      },
      "execution_count": null,
      "outputs": [
        {
          "output_type": "execute_result",
          "data": {
            "text/plain": [
              "Pipeline(steps=[('standardscaler', StandardScaler()),\n",
              "                ('svc', SVC(gamma='auto', random_state=0))])"
            ]
          },
          "metadata": {},
          "execution_count": 62
        }
      ]
    },
    {
      "cell_type": "code",
      "source": [
        "y_pred=clf.predict(X_test)\n",
        "acc=classification_report(y_test, y_pred)\n",
        "print(acc)"
      ],
      "metadata": {
        "id": "rCYurCnuJg90",
        "colab": {
          "base_uri": "https://localhost:8080/"
        },
        "outputId": "8214f776-fd1f-4d07-8005-87094b3e19a7"
      },
      "execution_count": null,
      "outputs": [
        {
          "output_type": "stream",
          "name": "stdout",
          "text": [
            "              precision    recall  f1-score   support\n",
            "\n",
            "           0       0.73      0.89      0.80       654\n",
            "           1       0.76      0.52      0.62       446\n",
            "\n",
            "    accuracy                           0.74      1100\n",
            "   macro avg       0.74      0.70      0.71      1100\n",
            "weighted avg       0.74      0.74      0.73      1100\n",
            "\n"
          ]
        }
      ]
    },
    {
      "cell_type": "markdown",
      "source": [
        "### Light GBM"
      ],
      "metadata": {
        "id": "wzpY542-V-Ni"
      }
    },
    {
      "cell_type": "code",
      "source": [
        "lgbm = LGBMClassifier()\n",
        "lgbm.fit(X_train,y_train)"
      ],
      "metadata": {
        "id": "Pw4w8GoaV-Ni",
        "colab": {
          "base_uri": "https://localhost:8080/"
        },
        "outputId": "402e3dad-f18f-4ffb-a61a-e41690a97846"
      },
      "execution_count": null,
      "outputs": [
        {
          "output_type": "execute_result",
          "data": {
            "text/plain": [
              "LGBMClassifier()"
            ]
          },
          "metadata": {},
          "execution_count": 64
        }
      ]
    },
    {
      "cell_type": "code",
      "source": [
        "y_pred = lgbm.predict(X_test)\n",
        "acc = classification_report(y_test,y_pred)\n",
        "print(acc)"
      ],
      "metadata": {
        "id": "QhkdE0m-V-Nj",
        "colab": {
          "base_uri": "https://localhost:8080/"
        },
        "outputId": "0553a470-d23e-4a4e-a192-4858b936ac18"
      },
      "execution_count": null,
      "outputs": [
        {
          "output_type": "stream",
          "name": "stdout",
          "text": [
            "              precision    recall  f1-score   support\n",
            "\n",
            "           0       0.80      0.86      0.83       654\n",
            "           1       0.77      0.67      0.72       446\n",
            "\n",
            "    accuracy                           0.79      1100\n",
            "   macro avg       0.78      0.77      0.77      1100\n",
            "weighted avg       0.78      0.79      0.78      1100\n",
            "\n"
          ]
        }
      ]
    },
    {
      "cell_type": "code",
      "source": [
        ""
      ],
      "metadata": {
        "id": "GpCNPXAFV-Nj"
      },
      "execution_count": null,
      "outputs": []
    },
    {
      "cell_type": "code",
      "source": [
        ""
      ],
      "metadata": {
        "id": "hvpOLszOJg90"
      },
      "execution_count": null,
      "outputs": []
    },
    {
      "cell_type": "markdown",
      "source": [
        "## Models - With PCA [0.8] and LDA"
      ],
      "metadata": {
        "id": "lrJGWKhvJGNj"
      }
    },
    {
      "cell_type": "code",
      "source": [
        "X_train,X_test,y_train,y_test=train_test_split(lda_data,class_name,stratify=class_name,train_size=0.8,random_state=10)"
      ],
      "metadata": {
        "id": "SBZHtT6TJGNt"
      },
      "execution_count": null,
      "outputs": []
    },
    {
      "cell_type": "markdown",
      "source": [
        "### Linear Support Vector Classifier"
      ],
      "metadata": {
        "id": "CFUMSzQ-JGNt"
      }
    },
    {
      "cell_type": "code",
      "source": [
        "from sklearn.metrics import classification_report"
      ],
      "metadata": {
        "id": "XizDlqp7JGNt"
      },
      "execution_count": null,
      "outputs": []
    },
    {
      "cell_type": "code",
      "source": [
        "from sklearn.svm import LinearSVC\n",
        "from sklearn.preprocessing import StandardScaler"
      ],
      "metadata": {
        "id": "NshiLJTgJGNt"
      },
      "execution_count": null,
      "outputs": []
    },
    {
      "cell_type": "code",
      "source": [
        "from sklearn.pipeline import make_pipeline"
      ],
      "metadata": {
        "id": "uyNoSqFkJGNu"
      },
      "execution_count": null,
      "outputs": []
    },
    {
      "cell_type": "code",
      "source": [
        "clf = make_pipeline(StandardScaler(), LinearSVC(random_state=0, tol=1e-5))\n",
        "clf.fit(X_train,y_train)"
      ],
      "metadata": {
        "id": "HrN12GrXJGNu",
        "colab": {
          "base_uri": "https://localhost:8080/"
        },
        "outputId": "12085731-1415-433f-a18f-07116d6750e0"
      },
      "execution_count": null,
      "outputs": [
        {
          "output_type": "execute_result",
          "data": {
            "text/plain": [
              "Pipeline(steps=[('standardscaler', StandardScaler()),\n",
              "                ('linearsvc', LinearSVC(random_state=0, tol=1e-05))])"
            ]
          },
          "metadata": {},
          "execution_count": 70
        }
      ]
    },
    {
      "cell_type": "code",
      "source": [
        "from sklearn.metrics import accuracy_score"
      ],
      "metadata": {
        "id": "DMAQeI8wJGNu"
      },
      "execution_count": null,
      "outputs": []
    },
    {
      "cell_type": "code",
      "source": [
        "y_pred=clf.predict(X_test)\n",
        "acc=classification_report(y_test, y_pred)\n",
        "print(acc)"
      ],
      "metadata": {
        "id": "sw2iAYrpJGNu",
        "colab": {
          "base_uri": "https://localhost:8080/"
        },
        "outputId": "8953a442-f22c-420c-a542-3613a0ea848d"
      },
      "execution_count": null,
      "outputs": [
        {
          "output_type": "stream",
          "name": "stdout",
          "text": [
            "              precision    recall  f1-score   support\n",
            "\n",
            "           0       0.79      0.84      0.81       654\n",
            "           1       0.74      0.67      0.70       446\n",
            "\n",
            "    accuracy                           0.77      1100\n",
            "   macro avg       0.76      0.75      0.76      1100\n",
            "weighted avg       0.77      0.77      0.77      1100\n",
            "\n"
          ]
        }
      ]
    },
    {
      "cell_type": "markdown",
      "source": [
        "### KNN"
      ],
      "metadata": {
        "id": "a0z60e8bJGNu"
      }
    },
    {
      "cell_type": "code",
      "source": [
        "from sklearn.neighbors import KNeighborsClassifier"
      ],
      "metadata": {
        "id": "ocJlOqKkJGNv"
      },
      "execution_count": null,
      "outputs": []
    },
    {
      "cell_type": "code",
      "source": [
        "neigh = KNeighborsClassifier(n_neighbors=5)\n",
        "neigh.fit(X_train, y_train)"
      ],
      "metadata": {
        "id": "yOgijl6aJGNv",
        "colab": {
          "base_uri": "https://localhost:8080/"
        },
        "outputId": "d8ca2141-445a-4791-b056-0d41569af945"
      },
      "execution_count": null,
      "outputs": [
        {
          "output_type": "execute_result",
          "data": {
            "text/plain": [
              "KNeighborsClassifier()"
            ]
          },
          "metadata": {},
          "execution_count": 74
        }
      ]
    },
    {
      "cell_type": "code",
      "source": [
        "y_pred=neigh.predict(X_test)\n",
        "acc=classification_report(y_test, y_pred)\n",
        "print(acc)"
      ],
      "metadata": {
        "id": "aYktrYDIJGNv",
        "colab": {
          "base_uri": "https://localhost:8080/"
        },
        "outputId": "d49d3766-cdbc-45d7-c0d3-389af9173053"
      },
      "execution_count": null,
      "outputs": [
        {
          "output_type": "stream",
          "name": "stdout",
          "text": [
            "              precision    recall  f1-score   support\n",
            "\n",
            "           0       0.78      0.78      0.78       654\n",
            "           1       0.68      0.67      0.68       446\n",
            "\n",
            "    accuracy                           0.74      1100\n",
            "   macro avg       0.73      0.73      0.73      1100\n",
            "weighted avg       0.74      0.74      0.74      1100\n",
            "\n"
          ]
        }
      ]
    },
    {
      "cell_type": "markdown",
      "source": [
        "### RBF SVM"
      ],
      "metadata": {
        "id": "vt52GvKdJGNv"
      }
    },
    {
      "cell_type": "code",
      "source": [
        "from sklearn.svm import SVC"
      ],
      "metadata": {
        "id": "X977EKzmJGNv"
      },
      "execution_count": null,
      "outputs": []
    },
    {
      "cell_type": "code",
      "source": [
        "clf = make_pipeline(StandardScaler(), SVC(random_state=0, gamma='auto'))\n",
        "clf.fit(X_train,y_train)"
      ],
      "metadata": {
        "id": "yu2IiIzRJGNw",
        "colab": {
          "base_uri": "https://localhost:8080/"
        },
        "outputId": "056e2680-092e-4a8f-8bea-533aab4c7422"
      },
      "execution_count": null,
      "outputs": [
        {
          "output_type": "execute_result",
          "data": {
            "text/plain": [
              "Pipeline(steps=[('standardscaler', StandardScaler()),\n",
              "                ('svc', SVC(gamma='auto', random_state=0))])"
            ]
          },
          "metadata": {},
          "execution_count": 77
        }
      ]
    },
    {
      "cell_type": "code",
      "source": [
        "y_pred=clf.predict(X_test)\n",
        "acc=classification_report(y_test, y_pred)\n",
        "print(acc)"
      ],
      "metadata": {
        "id": "soolERrlJGNw",
        "colab": {
          "base_uri": "https://localhost:8080/"
        },
        "outputId": "18447cd4-278d-490e-e8cb-0053b42ef61a"
      },
      "execution_count": null,
      "outputs": [
        {
          "output_type": "stream",
          "name": "stdout",
          "text": [
            "              precision    recall  f1-score   support\n",
            "\n",
            "           0       0.81      0.82      0.81       654\n",
            "           1       0.73      0.72      0.72       446\n",
            "\n",
            "    accuracy                           0.78      1100\n",
            "   macro avg       0.77      0.77      0.77      1100\n",
            "weighted avg       0.78      0.78      0.78      1100\n",
            "\n"
          ]
        }
      ]
    },
    {
      "cell_type": "markdown",
      "source": [
        "### Light GBM"
      ],
      "metadata": {
        "id": "c-y5h2NDV3D5"
      }
    },
    {
      "cell_type": "code",
      "source": [
        "lgbm = LGBMClassifier()\n",
        "lgbm.fit(X_train,y_train)"
      ],
      "metadata": {
        "id": "87ytvEfMV3D5",
        "colab": {
          "base_uri": "https://localhost:8080/"
        },
        "outputId": "06061199-0b0c-4696-cf6f-971d1d12dafa"
      },
      "execution_count": null,
      "outputs": [
        {
          "output_type": "execute_result",
          "data": {
            "text/plain": [
              "LGBMClassifier()"
            ]
          },
          "metadata": {},
          "execution_count": 79
        }
      ]
    },
    {
      "cell_type": "code",
      "source": [
        "y_pred = lgbm.predict(X_test)\n",
        "acc = classification_report(y_test,y_pred)\n",
        "print(acc)"
      ],
      "metadata": {
        "id": "tjSe-zqYV3D5",
        "colab": {
          "base_uri": "https://localhost:8080/"
        },
        "outputId": "cbe99bdc-8f52-44fa-faec-528b19a98012"
      },
      "execution_count": null,
      "outputs": [
        {
          "output_type": "stream",
          "name": "stdout",
          "text": [
            "              precision    recall  f1-score   support\n",
            "\n",
            "           0       0.79      0.82      0.80       654\n",
            "           1       0.72      0.69      0.70       446\n",
            "\n",
            "    accuracy                           0.76      1100\n",
            "   macro avg       0.76      0.75      0.75      1100\n",
            "weighted avg       0.76      0.76      0.76      1100\n",
            "\n"
          ]
        }
      ]
    },
    {
      "cell_type": "code",
      "source": [
        ""
      ],
      "metadata": {
        "id": "0QF5yu14V3D5"
      },
      "execution_count": null,
      "outputs": []
    },
    {
      "cell_type": "code",
      "source": [
        ""
      ],
      "metadata": {
        "id": "lNo7rPKFJGNw"
      },
      "execution_count": null,
      "outputs": []
    },
    {
      "cell_type": "markdown",
      "source": [
        "## Models - With PCA [0.9] and LDA"
      ],
      "metadata": {
        "id": "mOgRaXsaKtRF"
      }
    },
    {
      "cell_type": "code",
      "source": [
        "X_train,X_test,y_train,y_test=train_test_split(lda_data90,class_name,stratify=class_name,train_size=0.8,random_state=10)"
      ],
      "metadata": {
        "id": "l5m2zOQjKtRG"
      },
      "execution_count": null,
      "outputs": []
    },
    {
      "cell_type": "markdown",
      "source": [
        "### Linear Support Vector Classifier"
      ],
      "metadata": {
        "id": "sW-ld8vpKtRG"
      }
    },
    {
      "cell_type": "code",
      "source": [
        "from sklearn.metrics import classification_report"
      ],
      "metadata": {
        "id": "HUZjj2O3KtRG"
      },
      "execution_count": null,
      "outputs": []
    },
    {
      "cell_type": "code",
      "source": [
        "from sklearn.svm import LinearSVC\n",
        "from sklearn.preprocessing import StandardScaler"
      ],
      "metadata": {
        "id": "bYDIqaB8KtRG"
      },
      "execution_count": null,
      "outputs": []
    },
    {
      "cell_type": "code",
      "source": [
        "from sklearn.pipeline import make_pipeline"
      ],
      "metadata": {
        "id": "sBmT8Y6mKtRG"
      },
      "execution_count": null,
      "outputs": []
    },
    {
      "cell_type": "code",
      "source": [
        "model = Pipeline((('scaler',StandardScaler()),('linear svc', LinearSVC(random_state=0, tol=1e-5))))\n",
        "model.fit(X_train,y_train)"
      ],
      "metadata": {
        "id": "jXT_CE66KtRH",
        "colab": {
          "base_uri": "https://localhost:8080/"
        },
        "outputId": "9a28b18f-5155-49f4-9fa8-6b9cfe6e4e1f"
      },
      "execution_count": null,
      "outputs": [
        {
          "output_type": "execute_result",
          "data": {
            "text/plain": [
              "Pipeline(steps=[('scaler', StandardScaler()),\n",
              "                ('linear svc', LinearSVC(random_state=0, tol=1e-05))])"
            ]
          },
          "metadata": {},
          "execution_count": 201
        }
      ]
    },
    {
      "cell_type": "code",
      "source": [
        "from sklearn.metrics import accuracy_score"
      ],
      "metadata": {
        "id": "ehSrnvxbKtRH"
      },
      "execution_count": null,
      "outputs": []
    },
    {
      "cell_type": "code",
      "source": [
        "y_pred=model.predict(X_test)\n",
        "acc=classification_report(y_test, y_pred)\n",
        "print(acc)"
      ],
      "metadata": {
        "id": "xCkroz9yKtRH",
        "colab": {
          "base_uri": "https://localhost:8080/"
        },
        "outputId": "78b69ef9-a2a1-4b6f-a048-3c9edb3a9646"
      },
      "execution_count": null,
      "outputs": [
        {
          "output_type": "stream",
          "name": "stdout",
          "text": [
            "              precision    recall  f1-score   support\n",
            "\n",
            "           0       0.85      0.89      0.87       654\n",
            "           1       0.82      0.77      0.80       446\n",
            "\n",
            "    accuracy                           0.84      1100\n",
            "   macro avg       0.84      0.83      0.83      1100\n",
            "weighted avg       0.84      0.84      0.84      1100\n",
            "\n"
          ]
        }
      ]
    },
    {
      "cell_type": "markdown",
      "source": [
        "#### Random Search CV"
      ],
      "metadata": {
        "id": "h-ik6zvoDUZh"
      }
    },
    {
      "cell_type": "code",
      "source": [
        "clf = RandomizedSearchCV(model,{'linear svc__C':[0.25,2.5,25,250]})\n",
        "clf.fit(X_train,y_train)\n",
        "clf.best_params_"
      ],
      "metadata": {
        "colab": {
          "base_uri": "https://localhost:8080/"
        },
        "id": "gGpqdj5eDQ5i",
        "outputId": "5aceac27-4983-45b4-a5e9-3a725fa6ec92"
      },
      "execution_count": null,
      "outputs": [
        {
          "output_type": "execute_result",
          "data": {
            "text/plain": [
              "{'linear svc__C': 25}"
            ]
          },
          "metadata": {},
          "execution_count": 204
        }
      ]
    },
    {
      "cell_type": "code",
      "source": [
        "model = Pipeline((('scaler',StandardScaler()),('linear svc', LinearSVC(random_state=0,C = 25, tol=1e-5))))\n",
        "model.fit(X_train,y_train)\n",
        "y_pred=model.predict(X_test)\n",
        "acc=classification_report(y_test, y_pred)\n",
        "print(acc)"
      ],
      "metadata": {
        "colab": {
          "base_uri": "https://localhost:8080/"
        },
        "id": "9T2r3TKsErVf",
        "outputId": "99d3e679-73c4-4c37-a773-b58eee611d98"
      },
      "execution_count": null,
      "outputs": [
        {
          "output_type": "stream",
          "name": "stdout",
          "text": [
            "              precision    recall  f1-score   support\n",
            "\n",
            "           0       0.85      0.89      0.87       654\n",
            "           1       0.82      0.77      0.80       446\n",
            "\n",
            "    accuracy                           0.84      1100\n",
            "   macro avg       0.84      0.83      0.83      1100\n",
            "weighted avg       0.84      0.84      0.84      1100\n",
            "\n"
          ]
        }
      ]
    },
    {
      "cell_type": "code",
      "source": [
        "clf.cv_results_"
      ],
      "metadata": {
        "colab": {
          "base_uri": "https://localhost:8080/"
        },
        "id": "BcPUmpYsF9XH",
        "outputId": "dfcad954-fa64-483e-8f91-7383928cb612"
      },
      "execution_count": null,
      "outputs": [
        {
          "output_type": "execute_result",
          "data": {
            "text/plain": [
              "{'mean_fit_time': array([0.01354499, 0.08916521, 0.11435103, 0.11647248]),\n",
              " 'mean_score_time': array([0.00089245, 0.00119743, 0.00119052, 0.00119243]),\n",
              " 'mean_test_score': array([0.82159091, 0.82159091, 0.82181818, 0.79659091]),\n",
              " 'param_linear svc__C': masked_array(data=[0.25, 2.5, 25, 250],\n",
              "              mask=[False, False, False, False],\n",
              "        fill_value='?',\n",
              "             dtype=object),\n",
              " 'params': [{'linear svc__C': 0.25},\n",
              "  {'linear svc__C': 2.5},\n",
              "  {'linear svc__C': 25},\n",
              "  {'linear svc__C': 250}],\n",
              " 'rank_test_score': array([2, 2, 1, 4], dtype=int32),\n",
              " 'split0_test_score': array([0.825     , 0.825     , 0.82613636, 0.82386364]),\n",
              " 'split1_test_score': array([0.82272727, 0.82272727, 0.82272727, 0.77272727]),\n",
              " 'split2_test_score': array([0.82840909, 0.82840909, 0.82840909, 0.76590909]),\n",
              " 'split3_test_score': array([0.82613636, 0.82613636, 0.82613636, 0.82272727]),\n",
              " 'split4_test_score': array([0.80568182, 0.80568182, 0.80568182, 0.79772727]),\n",
              " 'std_fit_time': array([0.00189637, 0.00508435, 0.00423202, 0.00120485]),\n",
              " 'std_score_time': array([2.07335980e-04, 1.63768401e-05, 1.28530392e-05, 4.92705939e-05]),\n",
              " 'std_test_score': array([0.00816286, 0.00816286, 0.00826973, 0.02424479])}"
            ]
          },
          "metadata": {},
          "execution_count": 206
        }
      ]
    },
    {
      "cell_type": "markdown",
      "source": [
        "#### Grid Search CV"
      ],
      "metadata": {
        "id": "LrBDiMXuHfzo"
      }
    },
    {
      "cell_type": "code",
      "source": [
        "clf = GridSearchCV(model,{'linear svc__C':[0.25,2.5,25,250]})\n",
        "clf.fit(X_train,y_train)\n",
        "clf.best_params_"
      ],
      "metadata": {
        "colab": {
          "base_uri": "https://localhost:8080/"
        },
        "outputId": "95218095-03d7-458a-9261-509167d86a7e",
        "id": "37kh7UrtHfzp"
      },
      "execution_count": null,
      "outputs": [
        {
          "output_type": "execute_result",
          "data": {
            "text/plain": [
              "{'linear svc__C': 25}"
            ]
          },
          "metadata": {},
          "execution_count": 207
        }
      ]
    },
    {
      "cell_type": "code",
      "source": [
        "model = Pipeline((('scaler',StandardScaler()),('linear svc', LinearSVC(random_state=0,C = 25, tol=1e-5))))\n",
        "model.fit(X_train,y_train)\n",
        "y_pred=model.predict(X_test)\n",
        "acc=classification_report(y_test, y_pred)\n",
        "print(acc)"
      ],
      "metadata": {
        "colab": {
          "base_uri": "https://localhost:8080/"
        },
        "outputId": "694e156a-c050-4976-b74a-f479fd1093ab",
        "id": "b0RqtFwbHfzp"
      },
      "execution_count": null,
      "outputs": [
        {
          "output_type": "stream",
          "name": "stdout",
          "text": [
            "              precision    recall  f1-score   support\n",
            "\n",
            "           0       0.85      0.89      0.87       654\n",
            "           1       0.82      0.77      0.80       446\n",
            "\n",
            "    accuracy                           0.84      1100\n",
            "   macro avg       0.84      0.83      0.83      1100\n",
            "weighted avg       0.84      0.84      0.84      1100\n",
            "\n"
          ]
        }
      ]
    },
    {
      "cell_type": "code",
      "source": [
        "clf.cv_results_"
      ],
      "metadata": {
        "colab": {
          "base_uri": "https://localhost:8080/"
        },
        "outputId": "9434194f-0f7f-461c-d487-056c89c1afd1",
        "id": "KtvGqnbYHfzp"
      },
      "execution_count": null,
      "outputs": [
        {
          "output_type": "execute_result",
          "data": {
            "text/plain": [
              "{'mean_fit_time': array([0.03668747, 0.09091797, 0.11175628, 0.11458955]),\n",
              " 'mean_score_time': array([0.00312943, 0.00118985, 0.00118756, 0.00120883]),\n",
              " 'mean_test_score': array([0.82159091, 0.82159091, 0.82181818, 0.79659091]),\n",
              " 'param_linear svc__C': masked_array(data=[0.25, 2.5, 25, 250],\n",
              "              mask=[False, False, False, False],\n",
              "        fill_value='?',\n",
              "             dtype=object),\n",
              " 'params': [{'linear svc__C': 0.25},\n",
              "  {'linear svc__C': 2.5},\n",
              "  {'linear svc__C': 25},\n",
              "  {'linear svc__C': 250}],\n",
              " 'rank_test_score': array([2, 2, 1, 4], dtype=int32),\n",
              " 'split0_test_score': array([0.825     , 0.825     , 0.82613636, 0.82386364]),\n",
              " 'split1_test_score': array([0.82272727, 0.82272727, 0.82272727, 0.77272727]),\n",
              " 'split2_test_score': array([0.82840909, 0.82840909, 0.82840909, 0.76590909]),\n",
              " 'split3_test_score': array([0.82613636, 0.82613636, 0.82613636, 0.82272727]),\n",
              " 'split4_test_score': array([0.80568182, 0.80568182, 0.80568182, 0.79772727]),\n",
              " 'std_fit_time': array([0.01225854, 0.00600212, 0.00386546, 0.00062809]),\n",
              " 'std_score_time': array([2.89842575e-03, 1.16406879e-05, 1.47056147e-05, 6.83686051e-05]),\n",
              " 'std_test_score': array([0.00816286, 0.00816286, 0.00826973, 0.02424479])}"
            ]
          },
          "metadata": {},
          "execution_count": 209
        }
      ]
    },
    {
      "cell_type": "markdown",
      "source": [
        "### KNN"
      ],
      "metadata": {
        "id": "l-HJmeA8KtRI"
      }
    },
    {
      "cell_type": "code",
      "source": [
        "from sklearn.neighbors import KNeighborsClassifier"
      ],
      "metadata": {
        "id": "fIl_viM9KtRI"
      },
      "execution_count": null,
      "outputs": []
    },
    {
      "cell_type": "code",
      "source": [
        "neigh = KNeighborsClassifier(n_neighbors=5)\n",
        "neigh.fit(X_train, y_train)"
      ],
      "metadata": {
        "id": "Cq6hxkJ1KtRI",
        "colab": {
          "base_uri": "https://localhost:8080/"
        },
        "outputId": "85691572-ca44-4ea2-8e2d-3bf98eb82f38"
      },
      "execution_count": null,
      "outputs": [
        {
          "output_type": "execute_result",
          "data": {
            "text/plain": [
              "KNeighborsClassifier()"
            ]
          },
          "metadata": {},
          "execution_count": 230
        }
      ]
    },
    {
      "cell_type": "code",
      "source": [
        "y_pred=neigh.predict(X_test)\n",
        "acc=classification_report(y_test, y_pred)\n",
        "print(acc)"
      ],
      "metadata": {
        "id": "FB7hJl9RKtRI",
        "colab": {
          "base_uri": "https://localhost:8080/"
        },
        "outputId": "461c25b3-b15f-402f-b2b3-b28ea3a558bc"
      },
      "execution_count": null,
      "outputs": [
        {
          "output_type": "stream",
          "name": "stdout",
          "text": [
            "              precision    recall  f1-score   support\n",
            "\n",
            "           0       0.83      0.84      0.84       654\n",
            "           1       0.76      0.75      0.76       446\n",
            "\n",
            "    accuracy                           0.80      1100\n",
            "   macro avg       0.80      0.80      0.80      1100\n",
            "weighted avg       0.80      0.80      0.80      1100\n",
            "\n"
          ]
        }
      ]
    },
    {
      "cell_type": "markdown",
      "source": [
        "#### Random Search CV"
      ],
      "metadata": {
        "id": "MjjYw6NX3E6Q"
      }
    },
    {
      "cell_type": "code",
      "source": [
        "grid_params = { 'n_neighbors' : [5,7,9,11,13,15],\n",
        "               'weights' : ['uniform','distance'],\n",
        "               'metric' : ['minkowski','euclidean','manhattan']}"
      ],
      "metadata": {
        "id": "I737vpXlBtK_"
      },
      "execution_count": null,
      "outputs": []
    },
    {
      "cell_type": "code",
      "source": [
        "clf = RandomizedSearchCV(neigh,grid_params)"
      ],
      "metadata": {
        "id": "rxI9dwuq3E6Q"
      },
      "execution_count": null,
      "outputs": []
    },
    {
      "cell_type": "code",
      "source": [
        "clf.fit(X_train,y_train)"
      ],
      "metadata": {
        "colab": {
          "base_uri": "https://localhost:8080/"
        },
        "outputId": "ebefb103-2900-4f11-afe5-63c59fecbb83",
        "id": "7ssIjz4O3E6Q"
      },
      "execution_count": null,
      "outputs": [
        {
          "output_type": "execute_result",
          "data": {
            "text/plain": [
              "RandomizedSearchCV(estimator=KNeighborsClassifier(),\n",
              "                   param_distributions={'metric': ['minkowski', 'euclidean',\n",
              "                                                   'manhattan'],\n",
              "                                        'n_neighbors': [5, 7, 9, 11, 13, 15],\n",
              "                                        'weights': ['uniform', 'distance']})"
            ]
          },
          "metadata": {},
          "execution_count": 234
        }
      ]
    },
    {
      "cell_type": "code",
      "source": [
        "clf.best_params_"
      ],
      "metadata": {
        "colab": {
          "base_uri": "https://localhost:8080/"
        },
        "outputId": "deaf2e8d-ec52-42af-c5c0-d0cae364cf9d",
        "id": "h_JKOUe93E6R"
      },
      "execution_count": null,
      "outputs": [
        {
          "output_type": "execute_result",
          "data": {
            "text/plain": [
              "{'metric': 'manhattan', 'n_neighbors': 15, 'weights': 'uniform'}"
            ]
          },
          "metadata": {},
          "execution_count": 235
        }
      ]
    },
    {
      "cell_type": "code",
      "source": [
        "neigh = KNeighborsClassifier(metric = clf.best_params_['metric'],n_neighbors=clf.best_params_['n_neighbors'],weights=clf.best_params_['weights'])\n",
        "neigh.fit(X_train, y_train)\n",
        "\n",
        "y_pred=neigh.predict(X_test)\n",
        "acc=classification_report(y_test, y_pred)\n",
        "print(acc)"
      ],
      "metadata": {
        "colab": {
          "base_uri": "https://localhost:8080/"
        },
        "id": "5vcvy02zB4bn",
        "outputId": "bac6b356-3797-4d3c-e122-d9e948b70800"
      },
      "execution_count": null,
      "outputs": [
        {
          "output_type": "stream",
          "name": "stdout",
          "text": [
            "              precision    recall  f1-score   support\n",
            "\n",
            "           0       0.86      0.85      0.86       654\n",
            "           1       0.78      0.80      0.79       446\n",
            "\n",
            "    accuracy                           0.83      1100\n",
            "   macro avg       0.82      0.83      0.82      1100\n",
            "weighted avg       0.83      0.83      0.83      1100\n",
            "\n"
          ]
        }
      ]
    },
    {
      "cell_type": "code",
      "source": [
        "clf.cv_results_"
      ],
      "metadata": {
        "colab": {
          "base_uri": "https://localhost:8080/"
        },
        "id": "mUFuzvbg3E6S",
        "outputId": "5e94018a-3cdf-4ca6-ba5f-6ef3715162f7"
      },
      "execution_count": null,
      "outputs": [
        {
          "output_type": "execute_result",
          "data": {
            "text/plain": [
              "{'mean_fit_time': array([0.00263691, 0.00283265, 0.00219688, 0.00204201, 0.00220695,\n",
              "        0.002036  , 0.00256081, 0.00331893, 0.00266137, 0.00229063]),\n",
              " 'mean_score_time': array([0.02818918, 0.03447247, 0.02421398, 0.00279646, 0.02425632,\n",
              "        0.00283756, 0.03030815, 0.00600185, 0.03211193, 0.00377574]),\n",
              " 'mean_test_score': array([0.79840909, 0.81068182, 0.8125    , 0.77795455, 0.81068182,\n",
              "        0.77840909, 0.81477273, 0.78636364, 0.81477273, 0.78295455]),\n",
              " 'param_metric': masked_array(data=['euclidean', 'euclidean', 'manhattan', 'manhattan',\n",
              "                    'manhattan', 'euclidean', 'manhattan', 'euclidean',\n",
              "                    'euclidean', 'manhattan'],\n",
              "              mask=[False, False, False, False, False, False, False, False,\n",
              "                    False, False],\n",
              "        fill_value='?',\n",
              "             dtype=object),\n",
              " 'param_n_neighbors': masked_array(data=[5, 9, 11, 5, 9, 7, 15, 15, 15, 11],\n",
              "              mask=[False, False, False, False, False, False, False, False,\n",
              "                    False, False],\n",
              "        fill_value='?',\n",
              "             dtype=object),\n",
              " 'param_weights': masked_array(data=['uniform', 'uniform', 'uniform', 'distance', 'uniform',\n",
              "                    'distance', 'uniform', 'distance', 'uniform',\n",
              "                    'distance'],\n",
              "              mask=[False, False, False, False, False, False, False, False,\n",
              "                    False, False],\n",
              "        fill_value='?',\n",
              "             dtype=object),\n",
              " 'params': [{'metric': 'euclidean', 'n_neighbors': 5, 'weights': 'uniform'},\n",
              "  {'metric': 'euclidean', 'n_neighbors': 9, 'weights': 'uniform'},\n",
              "  {'metric': 'manhattan', 'n_neighbors': 11, 'weights': 'uniform'},\n",
              "  {'metric': 'manhattan', 'n_neighbors': 5, 'weights': 'distance'},\n",
              "  {'metric': 'manhattan', 'n_neighbors': 9, 'weights': 'uniform'},\n",
              "  {'metric': 'euclidean', 'n_neighbors': 7, 'weights': 'distance'},\n",
              "  {'metric': 'manhattan', 'n_neighbors': 15, 'weights': 'uniform'},\n",
              "  {'metric': 'euclidean', 'n_neighbors': 15, 'weights': 'distance'},\n",
              "  {'metric': 'euclidean', 'n_neighbors': 15, 'weights': 'uniform'},\n",
              "  {'metric': 'manhattan', 'n_neighbors': 11, 'weights': 'distance'}],\n",
              " 'rank_test_score': array([ 6,  4,  3, 10,  4,  9,  1,  7,  1,  8], dtype=int32),\n",
              " 'split0_test_score': array([0.80568182, 0.81931818, 0.81931818, 0.77159091, 0.81931818,\n",
              "        0.77727273, 0.81363636, 0.78409091, 0.81363636, 0.77954545]),\n",
              " 'split1_test_score': array([0.79772727, 0.81136364, 0.81477273, 0.77954545, 0.81136364,\n",
              "        0.77727273, 0.81818182, 0.78863636, 0.81818182, 0.78068182]),\n",
              " 'split2_test_score': array([0.79545455, 0.80227273, 0.81022727, 0.79204545, 0.80227273,\n",
              "        0.79318182, 0.81590909, 0.79545455, 0.81590909, 0.79431818]),\n",
              " 'split3_test_score': array([0.8       , 0.81704545, 0.81704545, 0.78181818, 0.81704545,\n",
              "        0.77840909, 0.82045455, 0.78409091, 0.82045455, 0.78181818]),\n",
              " 'split4_test_score': array([0.79318182, 0.80340909, 0.80113636, 0.76477273, 0.80340909,\n",
              "        0.76590909, 0.80568182, 0.77954545, 0.80568182, 0.77840909]),\n",
              " 'std_fit_time': array([8.10017121e-04, 7.04681368e-04, 5.09095075e-05, 1.00368094e-04,\n",
              "        1.36667103e-04, 1.36717005e-04, 4.36935060e-04, 5.31637220e-04,\n",
              "        2.75845973e-04, 1.70062995e-04]),\n",
              " 'std_score_time': array([6.22108262e-04, 1.38751538e-02, 1.03841830e-03, 1.49540831e-04,\n",
              "        1.20061411e-03, 8.96672719e-05, 5.58707094e-03, 8.09404166e-04,\n",
              "        6.74665114e-03, 2.44504529e-04]),\n",
              " 'std_test_score': array([0.00428817, 0.00691597, 0.00642824, 0.00927651, 0.00691597,\n",
              "        0.00868408, 0.00508197, 0.00537825, 0.00508197, 0.00579434])}"
            ]
          },
          "metadata": {},
          "execution_count": 237
        }
      ]
    },
    {
      "cell_type": "markdown",
      "source": [
        "#### Grid Search CV"
      ],
      "metadata": {
        "id": "tbQfGbCfHXBi"
      }
    },
    {
      "cell_type": "code",
      "source": [
        "grid_params = { 'n_neighbors' : [5,7,9,11,13,15],\n",
        "               'weights' : ['uniform','distance'],\n",
        "               'metric' : ['minkowski','euclidean','manhattan']}"
      ],
      "metadata": {
        "id": "WAy-hav_HXBj"
      },
      "execution_count": null,
      "outputs": []
    },
    {
      "cell_type": "code",
      "source": [
        "clf = GridSearchCV(neigh,grid_params)"
      ],
      "metadata": {
        "id": "ngU0inMZHXBj"
      },
      "execution_count": null,
      "outputs": []
    },
    {
      "cell_type": "code",
      "source": [
        "clf.fit(X_train,y_train)"
      ],
      "metadata": {
        "colab": {
          "base_uri": "https://localhost:8080/"
        },
        "outputId": "cded809d-46c0-4e59-d82b-3e76d54c554b",
        "id": "3TtlFFKBHXBj"
      },
      "execution_count": null,
      "outputs": [
        {
          "output_type": "execute_result",
          "data": {
            "text/plain": [
              "GridSearchCV(estimator=KNeighborsClassifier(metric='manhattan', n_neighbors=15),\n",
              "             param_grid={'metric': ['minkowski', 'euclidean', 'manhattan'],\n",
              "                         'n_neighbors': [5, 7, 9, 11, 13, 15],\n",
              "                         'weights': ['uniform', 'distance']})"
            ]
          },
          "metadata": {},
          "execution_count": 240
        }
      ]
    },
    {
      "cell_type": "code",
      "source": [
        "clf.best_params_"
      ],
      "metadata": {
        "colab": {
          "base_uri": "https://localhost:8080/"
        },
        "outputId": "5e27c32b-8c3a-4433-963a-9f030f8bcb71",
        "id": "ABpL-YImHXBj"
      },
      "execution_count": null,
      "outputs": [
        {
          "output_type": "execute_result",
          "data": {
            "text/plain": [
              "{'metric': 'minkowski', 'n_neighbors': 13, 'weights': 'uniform'}"
            ]
          },
          "metadata": {},
          "execution_count": 241
        }
      ]
    },
    {
      "cell_type": "code",
      "source": [
        "neigh = KNeighborsClassifier(metric = 'minkowski',n_neighbors=13,weights='uniform')\n",
        "neigh.fit(X_train, y_train)\n",
        "\n",
        "y_pred=neigh.predict(X_test)\n",
        "acc=classification_report(y_test, y_pred)\n",
        "print(acc)"
      ],
      "metadata": {
        "colab": {
          "base_uri": "https://localhost:8080/"
        },
        "outputId": "6d9ca2eb-9696-4d5f-e68a-832459579552",
        "id": "wLI1CWwXHXBj"
      },
      "execution_count": null,
      "outputs": [
        {
          "output_type": "stream",
          "name": "stdout",
          "text": [
            "              precision    recall  f1-score   support\n",
            "\n",
            "           0       0.87      0.85      0.86       654\n",
            "           1       0.78      0.81      0.80       446\n",
            "\n",
            "    accuracy                           0.83      1100\n",
            "   macro avg       0.82      0.83      0.83      1100\n",
            "weighted avg       0.83      0.83      0.83      1100\n",
            "\n"
          ]
        }
      ]
    },
    {
      "cell_type": "code",
      "source": [
        "clf.cv_results_"
      ],
      "metadata": {
        "colab": {
          "base_uri": "https://localhost:8080/"
        },
        "outputId": "8195db2d-761c-40e7-c258-6639c61089c0",
        "id": "cHJyAsOJHXBk"
      },
      "execution_count": null,
      "outputs": [
        {
          "output_type": "execute_result",
          "data": {
            "text/plain": [
              "{'mean_fit_time': array([0.00363631, 0.00299592, 0.00321426, 0.00341935, 0.00322247,\n",
              "        0.00285034, 0.00324545, 0.00334148, 0.00266714, 0.00202665,\n",
              "        0.00209966, 0.00201082, 0.00258279, 0.00198512, 0.00210519,\n",
              "        0.00247827, 0.00217013, 0.00215335, 0.00212293, 0.00204687,\n",
              "        0.0021349 , 0.00201144, 0.00214777, 0.00218935, 0.00212975,\n",
              "        0.00249238, 0.00216923, 0.00196428, 0.00213466, 0.00267482,\n",
              "        0.00221534, 0.00197344, 0.00212274, 0.00273004, 0.00214291,\n",
              "        0.00200553]),\n",
              " 'mean_score_time': array([0.03772302, 0.00367713, 0.04036884, 0.00419006, 0.04956884,\n",
              "        0.00426641, 0.05884504, 0.00573258, 0.03338404, 0.00354605,\n",
              "        0.0235877 , 0.00382595, 0.0252799 , 0.00254726, 0.02566776,\n",
              "        0.00375576, 0.02740593, 0.00332699, 0.02355952, 0.00330601,\n",
              "        0.02415352, 0.00353432, 0.02496057, 0.00402374, 0.02331181,\n",
              "        0.0035522 , 0.02577724, 0.00296793, 0.02387891, 0.00394211,\n",
              "        0.02494879, 0.00342917, 0.03479562, 0.00445046, 0.02564039,\n",
              "        0.00393991]),\n",
              " 'mean_test_score': array([0.79840909, 0.77795455, 0.8075    , 0.77840909, 0.81068182,\n",
              "        0.78045455, 0.8125    , 0.78295455, 0.81477273, 0.78545455,\n",
              "        0.81477273, 0.78636364, 0.79840909, 0.77795455, 0.8075    ,\n",
              "        0.77840909, 0.81068182, 0.78045455, 0.8125    , 0.78295455,\n",
              "        0.81477273, 0.78545455, 0.81477273, 0.78636364, 0.79840909,\n",
              "        0.77795455, 0.8075    , 0.77840909, 0.81068182, 0.78045455,\n",
              "        0.8125    , 0.78295455, 0.81477273, 0.78545455, 0.81477273,\n",
              "        0.78636364]),\n",
              " 'param_metric': masked_array(data=['minkowski', 'minkowski', 'minkowski', 'minkowski',\n",
              "                    'minkowski', 'minkowski', 'minkowski', 'minkowski',\n",
              "                    'minkowski', 'minkowski', 'minkowski', 'minkowski',\n",
              "                    'euclidean', 'euclidean', 'euclidean', 'euclidean',\n",
              "                    'euclidean', 'euclidean', 'euclidean', 'euclidean',\n",
              "                    'euclidean', 'euclidean', 'euclidean', 'euclidean',\n",
              "                    'manhattan', 'manhattan', 'manhattan', 'manhattan',\n",
              "                    'manhattan', 'manhattan', 'manhattan', 'manhattan',\n",
              "                    'manhattan', 'manhattan', 'manhattan', 'manhattan'],\n",
              "              mask=[False, False, False, False, False, False, False, False,\n",
              "                    False, False, False, False, False, False, False, False,\n",
              "                    False, False, False, False, False, False, False, False,\n",
              "                    False, False, False, False, False, False, False, False,\n",
              "                    False, False, False, False],\n",
              "        fill_value='?',\n",
              "             dtype=object),\n",
              " 'param_n_neighbors': masked_array(data=[5, 5, 7, 7, 9, 9, 11, 11, 13, 13, 15, 15, 5, 5, 7, 7,\n",
              "                    9, 9, 11, 11, 13, 13, 15, 15, 5, 5, 7, 7, 9, 9, 11, 11,\n",
              "                    13, 13, 15, 15],\n",
              "              mask=[False, False, False, False, False, False, False, False,\n",
              "                    False, False, False, False, False, False, False, False,\n",
              "                    False, False, False, False, False, False, False, False,\n",
              "                    False, False, False, False, False, False, False, False,\n",
              "                    False, False, False, False],\n",
              "        fill_value='?',\n",
              "             dtype=object),\n",
              " 'param_weights': masked_array(data=['uniform', 'distance', 'uniform', 'distance',\n",
              "                    'uniform', 'distance', 'uniform', 'distance',\n",
              "                    'uniform', 'distance', 'uniform', 'distance',\n",
              "                    'uniform', 'distance', 'uniform', 'distance',\n",
              "                    'uniform', 'distance', 'uniform', 'distance',\n",
              "                    'uniform', 'distance', 'uniform', 'distance',\n",
              "                    'uniform', 'distance', 'uniform', 'distance',\n",
              "                    'uniform', 'distance', 'uniform', 'distance',\n",
              "                    'uniform', 'distance', 'uniform', 'distance'],\n",
              "              mask=[False, False, False, False, False, False, False, False,\n",
              "                    False, False, False, False, False, False, False, False,\n",
              "                    False, False, False, False, False, False, False, False,\n",
              "                    False, False, False, False, False, False, False, False,\n",
              "                    False, False, False, False],\n",
              "        fill_value='?',\n",
              "             dtype=object),\n",
              " 'params': [{'metric': 'minkowski', 'n_neighbors': 5, 'weights': 'uniform'},\n",
              "  {'metric': 'minkowski', 'n_neighbors': 5, 'weights': 'distance'},\n",
              "  {'metric': 'minkowski', 'n_neighbors': 7, 'weights': 'uniform'},\n",
              "  {'metric': 'minkowski', 'n_neighbors': 7, 'weights': 'distance'},\n",
              "  {'metric': 'minkowski', 'n_neighbors': 9, 'weights': 'uniform'},\n",
              "  {'metric': 'minkowski', 'n_neighbors': 9, 'weights': 'distance'},\n",
              "  {'metric': 'minkowski', 'n_neighbors': 11, 'weights': 'uniform'},\n",
              "  {'metric': 'minkowski', 'n_neighbors': 11, 'weights': 'distance'},\n",
              "  {'metric': 'minkowski', 'n_neighbors': 13, 'weights': 'uniform'},\n",
              "  {'metric': 'minkowski', 'n_neighbors': 13, 'weights': 'distance'},\n",
              "  {'metric': 'minkowski', 'n_neighbors': 15, 'weights': 'uniform'},\n",
              "  {'metric': 'minkowski', 'n_neighbors': 15, 'weights': 'distance'},\n",
              "  {'metric': 'euclidean', 'n_neighbors': 5, 'weights': 'uniform'},\n",
              "  {'metric': 'euclidean', 'n_neighbors': 5, 'weights': 'distance'},\n",
              "  {'metric': 'euclidean', 'n_neighbors': 7, 'weights': 'uniform'},\n",
              "  {'metric': 'euclidean', 'n_neighbors': 7, 'weights': 'distance'},\n",
              "  {'metric': 'euclidean', 'n_neighbors': 9, 'weights': 'uniform'},\n",
              "  {'metric': 'euclidean', 'n_neighbors': 9, 'weights': 'distance'},\n",
              "  {'metric': 'euclidean', 'n_neighbors': 11, 'weights': 'uniform'},\n",
              "  {'metric': 'euclidean', 'n_neighbors': 11, 'weights': 'distance'},\n",
              "  {'metric': 'euclidean', 'n_neighbors': 13, 'weights': 'uniform'},\n",
              "  {'metric': 'euclidean', 'n_neighbors': 13, 'weights': 'distance'},\n",
              "  {'metric': 'euclidean', 'n_neighbors': 15, 'weights': 'uniform'},\n",
              "  {'metric': 'euclidean', 'n_neighbors': 15, 'weights': 'distance'},\n",
              "  {'metric': 'manhattan', 'n_neighbors': 5, 'weights': 'uniform'},\n",
              "  {'metric': 'manhattan', 'n_neighbors': 5, 'weights': 'distance'},\n",
              "  {'metric': 'manhattan', 'n_neighbors': 7, 'weights': 'uniform'},\n",
              "  {'metric': 'manhattan', 'n_neighbors': 7, 'weights': 'distance'},\n",
              "  {'metric': 'manhattan', 'n_neighbors': 9, 'weights': 'uniform'},\n",
              "  {'metric': 'manhattan', 'n_neighbors': 9, 'weights': 'distance'},\n",
              "  {'metric': 'manhattan', 'n_neighbors': 11, 'weights': 'uniform'},\n",
              "  {'metric': 'manhattan', 'n_neighbors': 11, 'weights': 'distance'},\n",
              "  {'metric': 'manhattan', 'n_neighbors': 13, 'weights': 'uniform'},\n",
              "  {'metric': 'manhattan', 'n_neighbors': 13, 'weights': 'distance'},\n",
              "  {'metric': 'manhattan', 'n_neighbors': 15, 'weights': 'uniform'},\n",
              "  {'metric': 'manhattan', 'n_neighbors': 15, 'weights': 'distance'}],\n",
              " 'rank_test_score': array([16, 34, 13, 31, 10, 28,  7, 25,  1, 22,  1, 19, 16, 34, 13, 31, 10,\n",
              "        28,  7, 25,  1, 22,  1, 19, 16, 34, 13, 31, 10, 28,  7, 25,  1, 22,\n",
              "         1, 19], dtype=int32),\n",
              " 'split0_test_score': array([0.80568182, 0.77159091, 0.8125    , 0.77727273, 0.81931818,\n",
              "        0.775     , 0.81931818, 0.77954545, 0.81136364, 0.78409091,\n",
              "        0.81363636, 0.78409091, 0.80568182, 0.77159091, 0.8125    ,\n",
              "        0.77727273, 0.81931818, 0.775     , 0.81931818, 0.77954545,\n",
              "        0.81136364, 0.78409091, 0.81363636, 0.78409091, 0.80568182,\n",
              "        0.77159091, 0.8125    , 0.77727273, 0.81931818, 0.775     ,\n",
              "        0.81931818, 0.77954545, 0.81136364, 0.78409091, 0.81363636,\n",
              "        0.78409091]),\n",
              " 'split1_test_score': array([0.79772727, 0.77954545, 0.81022727, 0.77727273, 0.81136364,\n",
              "        0.77613636, 0.81477273, 0.78068182, 0.80909091, 0.78295455,\n",
              "        0.81818182, 0.78863636, 0.79772727, 0.77954545, 0.81022727,\n",
              "        0.77727273, 0.81136364, 0.77613636, 0.81477273, 0.78068182,\n",
              "        0.80909091, 0.78295455, 0.81818182, 0.78863636, 0.79772727,\n",
              "        0.77954545, 0.81022727, 0.77727273, 0.81136364, 0.77613636,\n",
              "        0.81477273, 0.78068182, 0.80909091, 0.78295455, 0.81818182,\n",
              "        0.78863636]),\n",
              " 'split2_test_score': array([0.79545455, 0.79204545, 0.80454545, 0.79318182, 0.80227273,\n",
              "        0.79318182, 0.81022727, 0.79431818, 0.81477273, 0.79545455,\n",
              "        0.81590909, 0.79545455, 0.79545455, 0.79204545, 0.80454545,\n",
              "        0.79318182, 0.80227273, 0.79318182, 0.81022727, 0.79431818,\n",
              "        0.81477273, 0.79545455, 0.81590909, 0.79545455, 0.79545455,\n",
              "        0.79204545, 0.80454545, 0.79318182, 0.80227273, 0.79318182,\n",
              "        0.81022727, 0.79431818, 0.81477273, 0.79545455, 0.81590909,\n",
              "        0.79545455]),\n",
              " 'split3_test_score': array([0.8       , 0.78181818, 0.80681818, 0.77840909, 0.81704545,\n",
              "        0.78295455, 0.81704545, 0.78181818, 0.82272727, 0.78522727,\n",
              "        0.82045455, 0.78409091, 0.8       , 0.78181818, 0.80681818,\n",
              "        0.77840909, 0.81704545, 0.78295455, 0.81704545, 0.78181818,\n",
              "        0.82272727, 0.78522727, 0.82045455, 0.78409091, 0.8       ,\n",
              "        0.78181818, 0.80681818, 0.77840909, 0.81704545, 0.78295455,\n",
              "        0.81704545, 0.78181818, 0.82272727, 0.78522727, 0.82045455,\n",
              "        0.78409091]),\n",
              " 'split4_test_score': array([0.79318182, 0.76477273, 0.80340909, 0.76590909, 0.80340909,\n",
              "        0.775     , 0.80113636, 0.77840909, 0.81590909, 0.77954545,\n",
              "        0.80568182, 0.77954545, 0.79318182, 0.76477273, 0.80340909,\n",
              "        0.76590909, 0.80340909, 0.775     , 0.80113636, 0.77840909,\n",
              "        0.81590909, 0.77954545, 0.80568182, 0.77954545, 0.79318182,\n",
              "        0.76477273, 0.80340909, 0.76590909, 0.80340909, 0.775     ,\n",
              "        0.80113636, 0.77840909, 0.81590909, 0.77954545, 0.80568182,\n",
              "        0.77954545]),\n",
              " 'std_fit_time': array([1.48691355e-03, 2.39336887e-04, 3.32372486e-04, 8.76228343e-04,\n",
              "        2.08963514e-04, 1.31565792e-04, 4.97197046e-04, 7.94555839e-04,\n",
              "        2.82270296e-04, 8.76958632e-05, 7.58159985e-05, 7.04798549e-05,\n",
              "        9.43187599e-04, 8.36535202e-05, 9.86702023e-05, 3.24046640e-04,\n",
              "        9.51183643e-05, 1.69567906e-04, 7.39388870e-05, 1.28976862e-04,\n",
              "        9.90316965e-05, 1.03607465e-04, 6.69458992e-05, 2.29411179e-04,\n",
              "        1.00972833e-04, 5.70442056e-04, 9.27420201e-05, 9.46469990e-05,\n",
              "        9.39643404e-05, 4.82560358e-04, 1.25279052e-04, 9.32316519e-05,\n",
              "        1.50597269e-04, 6.08798237e-04, 1.06363229e-04, 1.05337030e-04]),\n",
              " 'std_score_time': array([1.06651165e-02, 2.89444751e-04, 3.22083822e-03, 4.44703626e-04,\n",
              "        2.52020074e-03, 1.25333234e-04, 2.66072952e-02, 1.48119338e-03,\n",
              "        9.31864417e-03, 9.56958124e-05, 3.42227826e-04, 1.20319008e-04,\n",
              "        3.63502348e-03, 9.33225262e-05, 5.68772781e-03, 5.74242012e-04,\n",
              "        4.83821778e-03, 2.28953380e-04, 4.12337399e-04, 5.57452210e-05,\n",
              "        9.22965213e-04, 9.11907899e-05, 2.40663313e-03, 3.54509985e-04,\n",
              "        5.29709542e-04, 1.08115213e-03, 3.80427545e-03, 7.50393229e-05,\n",
              "        1.54730447e-03, 6.78522565e-04, 1.38202367e-03, 7.04908227e-05,\n",
              "        1.61091958e-02, 8.74451650e-04, 3.24465017e-03, 7.81825962e-05]),\n",
              " 'std_test_score': array([0.00428817, 0.00927651, 0.00341666, 0.00868408, 0.00691597,\n",
              "        0.00701975, 0.00642824, 0.00579434, 0.0046577 , 0.00534936,\n",
              "        0.00508197, 0.00537825, 0.00428817, 0.00927651, 0.00341666,\n",
              "        0.00868408, 0.00691597, 0.00701975, 0.00642824, 0.00579434,\n",
              "        0.0046577 , 0.00534936, 0.00508197, 0.00537825, 0.00428817,\n",
              "        0.00927651, 0.00341666, 0.00868408, 0.00691597, 0.00701975,\n",
              "        0.00642824, 0.00579434, 0.0046577 , 0.00534936, 0.00508197,\n",
              "        0.00537825])}"
            ]
          },
          "metadata": {},
          "execution_count": 243
        }
      ]
    },
    {
      "cell_type": "markdown",
      "source": [
        "### RBF SVM"
      ],
      "metadata": {
        "id": "eQ1CxLMBKtRI"
      }
    },
    {
      "cell_type": "code",
      "source": [
        "from sklearn.svm import SVC"
      ],
      "metadata": {
        "id": "kXnXhMGhKtRJ"
      },
      "execution_count": null,
      "outputs": []
    },
    {
      "cell_type": "code",
      "source": [
        "model = Pipeline((('scaler',StandardScaler()), ('rbf_svm',SVC(random_state=0, gamma='auto'))))\n",
        "model.fit(X_train,y_train)"
      ],
      "metadata": {
        "id": "RPWQZnTOKtRJ",
        "colab": {
          "base_uri": "https://localhost:8080/"
        },
        "outputId": "5419faf4-166c-4e6c-950c-47fd5016be1c"
      },
      "execution_count": null,
      "outputs": [
        {
          "output_type": "execute_result",
          "data": {
            "text/plain": [
              "Pipeline(steps=[('scaler', StandardScaler()),\n",
              "                ('rbf_svm', SVC(gamma='auto', random_state=0))])"
            ]
          },
          "metadata": {},
          "execution_count": 169
        }
      ]
    },
    {
      "cell_type": "code",
      "source": [
        "y_pred=model.predict(X_test)\n",
        "acc=classification_report(y_test, y_pred)\n",
        "print(acc)"
      ],
      "metadata": {
        "id": "p62DwMWMKtRJ",
        "colab": {
          "base_uri": "https://localhost:8080/"
        },
        "outputId": "e67d8027-38f1-4192-e90a-5478e5a9e8b7"
      },
      "execution_count": null,
      "outputs": [
        {
          "output_type": "stream",
          "name": "stdout",
          "text": [
            "              precision    recall  f1-score   support\n",
            "\n",
            "           0       0.86      0.87      0.87       654\n",
            "           1       0.81      0.80      0.80       446\n",
            "\n",
            "    accuracy                           0.84      1100\n",
            "   macro avg       0.84      0.84      0.84      1100\n",
            "weighted avg       0.84      0.84      0.84      1100\n",
            "\n"
          ]
        }
      ]
    },
    {
      "cell_type": "markdown",
      "source": [
        "#### Random Search CV"
      ],
      "metadata": {
        "id": "YFYUlj7c2iLD"
      }
    },
    {
      "cell_type": "code",
      "source": [
        "clf = RandomizedSearchCV(model,{'rbf_svm__C': [1,10,100,1000]})"
      ],
      "metadata": {
        "id": "x8IDIJz62iLE"
      },
      "execution_count": null,
      "outputs": []
    },
    {
      "cell_type": "code",
      "source": [
        "clf.fit(X_train,y_train)"
      ],
      "metadata": {
        "colab": {
          "base_uri": "https://localhost:8080/"
        },
        "outputId": "47e62706-1df3-45e1-c010-4b64a0dc3e28",
        "id": "xdmispT82iLE"
      },
      "execution_count": null,
      "outputs": [
        {
          "output_type": "execute_result",
          "data": {
            "text/plain": [
              "RandomizedSearchCV(estimator=Pipeline(steps=[('scaler', StandardScaler()),\n",
              "                                             ('rbf_svm',\n",
              "                                              SVC(gamma='auto',\n",
              "                                                  random_state=0))]),\n",
              "                   param_distributions={'rbf_svm__C': [1, 10, 100, 1000]})"
            ]
          },
          "metadata": {},
          "execution_count": 172
        }
      ]
    },
    {
      "cell_type": "code",
      "source": [
        "clf.best_params_"
      ],
      "metadata": {
        "colab": {
          "base_uri": "https://localhost:8080/"
        },
        "outputId": "2655f69a-44d1-4a87-86e4-b5e3906900a8",
        "id": "WkNTOfz52iLE"
      },
      "execution_count": null,
      "outputs": [
        {
          "output_type": "execute_result",
          "data": {
            "text/plain": [
              "{'rbf_svm__C': 1000}"
            ]
          },
          "metadata": {},
          "execution_count": 173
        }
      ]
    },
    {
      "cell_type": "code",
      "source": [
        "model = Pipeline((('scaler',StandardScaler()), ('rbf_svm',SVC(random_state=0,C =1000, gamma='auto'))))\n",
        "model.fit(X_train,y_train)"
      ],
      "metadata": {
        "colab": {
          "base_uri": "https://localhost:8080/"
        },
        "outputId": "755abefc-7c87-4cfe-b808-fb773a4bae3c",
        "id": "FATLBSHkAsCh"
      },
      "execution_count": null,
      "outputs": [
        {
          "output_type": "execute_result",
          "data": {
            "text/plain": [
              "Pipeline(steps=[('scaler', StandardScaler()),\n",
              "                ('rbf_svm', SVC(C=1000, gamma='auto', random_state=0))])"
            ]
          },
          "metadata": {},
          "execution_count": 174
        }
      ]
    },
    {
      "cell_type": "code",
      "source": [
        "y_pred=model.predict(X_test)\n",
        "acc=classification_report(y_test, y_pred)\n",
        "print(acc)"
      ],
      "metadata": {
        "colab": {
          "base_uri": "https://localhost:8080/"
        },
        "outputId": "d14f68de-e712-4e82-9669-8680ec41e5c4",
        "id": "TsMxw3KUAsCi"
      },
      "execution_count": null,
      "outputs": [
        {
          "output_type": "stream",
          "name": "stdout",
          "text": [
            "              precision    recall  f1-score   support\n",
            "\n",
            "           0       0.86      0.88      0.87       654\n",
            "           1       0.82      0.79      0.80       446\n",
            "\n",
            "    accuracy                           0.84      1100\n",
            "   macro avg       0.84      0.83      0.84      1100\n",
            "weighted avg       0.84      0.84      0.84      1100\n",
            "\n"
          ]
        }
      ]
    },
    {
      "cell_type": "code",
      "source": [
        "clf.cv_results_"
      ],
      "metadata": {
        "colab": {
          "base_uri": "https://localhost:8080/"
        },
        "id": "XWHkl8JS2iLF",
        "outputId": "4872423b-4e58-4576-d18b-0979057814f1"
      },
      "execution_count": null,
      "outputs": [
        {
          "output_type": "execute_result",
          "data": {
            "text/plain": [
              "{'mean_fit_time': array([0.3949645 , 0.54278626, 1.22573776, 7.40844498]),\n",
              " 'mean_score_time': array([0.07445335, 0.07050252, 0.07003474, 0.10698977]),\n",
              " 'mean_test_score': array([0.8175    , 0.81772727, 0.81772727, 0.81909091]),\n",
              " 'param_rbf_svm__C': masked_array(data=[1, 10, 100, 1000],\n",
              "              mask=[False, False, False, False],\n",
              "        fill_value='?',\n",
              "             dtype=object),\n",
              " 'params': [{'rbf_svm__C': 1},\n",
              "  {'rbf_svm__C': 10},\n",
              "  {'rbf_svm__C': 100},\n",
              "  {'rbf_svm__C': 1000}],\n",
              " 'rank_test_score': array([4, 2, 2, 1], dtype=int32),\n",
              " 'split0_test_score': array([0.82159091, 0.82159091, 0.82272727, 0.825     ]),\n",
              " 'split1_test_score': array([0.81818182, 0.81704545, 0.81704545, 0.81818182]),\n",
              " 'split2_test_score': array([0.82272727, 0.825     , 0.825     , 0.825     ]),\n",
              " 'split3_test_score': array([0.82727273, 0.82727273, 0.82727273, 0.82727273]),\n",
              " 'split4_test_score': array([0.79772727, 0.79772727, 0.79659091, 0.8       ]),\n",
              " 'std_fit_time': array([0.0149592 , 0.03841338, 0.1129689 , 1.91267128]),\n",
              " 'std_score_time': array([0.00407462, 0.00125219, 0.00189692, 0.03450402]),\n",
              " 'std_test_score': array([0.01030526, 0.01057734, 0.01110152, 0.01002064])}"
            ]
          },
          "metadata": {},
          "execution_count": 176
        }
      ]
    },
    {
      "cell_type": "markdown",
      "source": [
        "#### Grid Search CV"
      ],
      "metadata": {
        "id": "VFuNrqDFHEhB"
      }
    },
    {
      "cell_type": "code",
      "source": [
        "clf = GridSearchCV(model,{'rbf_svm__C': [1,10,100,1000]})"
      ],
      "metadata": {
        "id": "Mx7UyZTTHEhB"
      },
      "execution_count": null,
      "outputs": []
    },
    {
      "cell_type": "code",
      "source": [
        "clf.fit(X_train,y_train)"
      ],
      "metadata": {
        "colab": {
          "base_uri": "https://localhost:8080/"
        },
        "outputId": "a3d6eb6f-af59-4461-bffd-74c4304b7a97",
        "id": "CWz_q6zMHEhB"
      },
      "execution_count": null,
      "outputs": [
        {
          "output_type": "execute_result",
          "data": {
            "text/plain": [
              "GridSearchCV(estimator=Pipeline(steps=[('scaler', StandardScaler()),\n",
              "                                       ('rbf_svm',\n",
              "                                        SVC(C=1000, gamma='auto',\n",
              "                                            random_state=0))]),\n",
              "             param_grid={'rbf_svm__C': [1, 10, 100, 1000]})"
            ]
          },
          "metadata": {},
          "execution_count": 178
        }
      ]
    },
    {
      "cell_type": "code",
      "source": [
        "clf.best_params_"
      ],
      "metadata": {
        "colab": {
          "base_uri": "https://localhost:8080/"
        },
        "outputId": "4fc0cd58-66dd-4833-a535-843977cb8e9f",
        "id": "oQWNy8W-HEhB"
      },
      "execution_count": null,
      "outputs": [
        {
          "output_type": "execute_result",
          "data": {
            "text/plain": [
              "{'rbf_svm__C': 1000}"
            ]
          },
          "metadata": {},
          "execution_count": 179
        }
      ]
    },
    {
      "cell_type": "code",
      "source": [
        "model = Pipeline((('scaler',StandardScaler()), ('rbf_svm',SVC(random_state=0,C =1000, gamma='auto'))))\n",
        "model.fit(X_train,y_train)"
      ],
      "metadata": {
        "colab": {
          "base_uri": "https://localhost:8080/"
        },
        "outputId": "5d996148-118c-4eb3-d203-c8a17761a57c",
        "id": "VaMpOZk3HEhC"
      },
      "execution_count": null,
      "outputs": [
        {
          "output_type": "execute_result",
          "data": {
            "text/plain": [
              "Pipeline(steps=[('scaler', StandardScaler()),\n",
              "                ('rbf_svm', SVC(C=1000, gamma='auto', random_state=0))])"
            ]
          },
          "metadata": {},
          "execution_count": 180
        }
      ]
    },
    {
      "cell_type": "code",
      "source": [
        "y_pred=model.predict(X_test)\n",
        "acc=classification_report(y_test, y_pred)\n",
        "print(acc)"
      ],
      "metadata": {
        "colab": {
          "base_uri": "https://localhost:8080/"
        },
        "outputId": "10629e5d-839f-4f59-ebd0-d60415e7f161",
        "id": "ElGZ_x-FHEhC"
      },
      "execution_count": null,
      "outputs": [
        {
          "output_type": "stream",
          "name": "stdout",
          "text": [
            "              precision    recall  f1-score   support\n",
            "\n",
            "           0       0.86      0.88      0.87       654\n",
            "           1       0.82      0.79      0.80       446\n",
            "\n",
            "    accuracy                           0.84      1100\n",
            "   macro avg       0.84      0.83      0.84      1100\n",
            "weighted avg       0.84      0.84      0.84      1100\n",
            "\n"
          ]
        }
      ]
    },
    {
      "cell_type": "code",
      "source": [
        "clf.cv_results_"
      ],
      "metadata": {
        "colab": {
          "base_uri": "https://localhost:8080/"
        },
        "outputId": "136044dd-1279-44c2-beb0-e76d47a2f289",
        "id": "xj2ECTXeHEhC"
      },
      "execution_count": null,
      "outputs": [
        {
          "output_type": "execute_result",
          "data": {
            "text/plain": [
              "{'mean_fit_time': array([0.68344235, 1.06890645, 1.58816929, 6.16178093]),\n",
              " 'mean_score_time': array([0.12226181, 0.11517658, 0.07845955, 0.07820439]),\n",
              " 'mean_test_score': array([0.8175    , 0.81772727, 0.81772727, 0.81909091]),\n",
              " 'param_rbf_svm__C': masked_array(data=[1, 10, 100, 1000],\n",
              "              mask=[False, False, False, False],\n",
              "        fill_value='?',\n",
              "             dtype=object),\n",
              " 'params': [{'rbf_svm__C': 1},\n",
              "  {'rbf_svm__C': 10},\n",
              "  {'rbf_svm__C': 100},\n",
              "  {'rbf_svm__C': 1000}],\n",
              " 'rank_test_score': array([4, 2, 2, 1], dtype=int32),\n",
              " 'split0_test_score': array([0.82159091, 0.82159091, 0.82272727, 0.825     ]),\n",
              " 'split1_test_score': array([0.81818182, 0.81704545, 0.81704545, 0.81818182]),\n",
              " 'split2_test_score': array([0.82272727, 0.825     , 0.825     , 0.825     ]),\n",
              " 'split3_test_score': array([0.82727273, 0.82727273, 0.82727273, 0.82727273]),\n",
              " 'split4_test_score': array([0.79772727, 0.79772727, 0.79659091, 0.8       ]),\n",
              " 'std_fit_time': array([0.02303104, 0.26279693, 0.32332375, 1.06747971]),\n",
              " 'std_score_time': array([0.00501717, 0.00100451, 0.01667922, 0.01890276]),\n",
              " 'std_test_score': array([0.01030526, 0.01057734, 0.01110152, 0.01002064])}"
            ]
          },
          "metadata": {},
          "execution_count": 182
        }
      ]
    },
    {
      "cell_type": "markdown",
      "source": [
        "### Light GBM"
      ],
      "metadata": {
        "id": "LdjKy6XGU3wW"
      }
    },
    {
      "cell_type": "code",
      "source": [
        "lgbm = LGBMClassifier()\n",
        "model = LGBMClassifier()\n",
        "model.fit(X_train,y_train)"
      ],
      "metadata": {
        "id": "jekSS68iKtRJ",
        "colab": {
          "base_uri": "https://localhost:8080/"
        },
        "outputId": "cdb4930d-552d-42c5-d9fa-4db7a31ebc67"
      },
      "execution_count": null,
      "outputs": [
        {
          "output_type": "execute_result",
          "data": {
            "text/plain": [
              "LGBMClassifier()"
            ]
          },
          "metadata": {},
          "execution_count": 244
        }
      ]
    },
    {
      "cell_type": "code",
      "source": [
        "y_pred = model.predict(X_test)\n",
        "acc = classification_report(y_test,y_pred)\n",
        "print(acc)"
      ],
      "metadata": {
        "id": "OR_tezqZVn-Q",
        "colab": {
          "base_uri": "https://localhost:8080/"
        },
        "outputId": "c0b1f4a7-2f13-41fb-cc90-fb1d933f8e4c"
      },
      "execution_count": null,
      "outputs": [
        {
          "output_type": "stream",
          "name": "stdout",
          "text": [
            "              precision    recall  f1-score   support\n",
            "\n",
            "           0       0.86      0.86      0.86       654\n",
            "           1       0.79      0.80      0.80       446\n",
            "\n",
            "    accuracy                           0.83      1100\n",
            "   macro avg       0.83      0.83      0.83      1100\n",
            "weighted avg       0.83      0.83      0.83      1100\n",
            "\n"
          ]
        }
      ]
    },
    {
      "cell_type": "markdown",
      "source": [
        "#### Random Search CV"
      ],
      "metadata": {
        "id": "d15cPuIQ2DdV"
      }
    },
    {
      "cell_type": "code",
      "source": [
        "clf = RandomizedSearchCV(model,dict(num_leaves=[5,10,100,1000],max_depth = [2,3,4,5,6]))"
      ],
      "metadata": {
        "id": "wtf-FyRhl143"
      },
      "execution_count": null,
      "outputs": []
    },
    {
      "cell_type": "code",
      "source": [
        "clf.fit(X_train,y_train)"
      ],
      "metadata": {
        "colab": {
          "base_uri": "https://localhost:8080/"
        },
        "id": "K0pRkb8ipj5B",
        "outputId": "5af1a53e-e182-402d-fd04-b458246a9556"
      },
      "execution_count": null,
      "outputs": [
        {
          "output_type": "execute_result",
          "data": {
            "text/plain": [
              "RandomizedSearchCV(estimator=LGBMClassifier(),\n",
              "                   param_distributions={'max_depth': [2, 3, 4, 5, 6],\n",
              "                                        'num_leaves': [5, 10, 100, 1000]})"
            ]
          },
          "metadata": {},
          "execution_count": 247
        }
      ]
    },
    {
      "cell_type": "code",
      "source": [
        "clf.best_params_"
      ],
      "metadata": {
        "colab": {
          "base_uri": "https://localhost:8080/"
        },
        "id": "0qw3E1U0psVj",
        "outputId": "6e9c94e3-ea81-44f8-f092-2c7d8bcbe3be"
      },
      "execution_count": null,
      "outputs": [
        {
          "output_type": "execute_result",
          "data": {
            "text/plain": [
              "{'max_depth': 4, 'num_leaves': 1000}"
            ]
          },
          "metadata": {},
          "execution_count": 248
        }
      ]
    },
    {
      "cell_type": "code",
      "source": [
        "model = LGBMClassifier(num_leaves = clf.best_params_['num_leaves'],max_depth = clf.best_params_['max_depth'])\n",
        "model.fit(X_train,y_train)\n",
        "y_pred = model.predict(X_test)\n",
        "acc = classification_report(y_test,y_pred)\n",
        "print(acc)"
      ],
      "metadata": {
        "colab": {
          "base_uri": "https://localhost:8080/"
        },
        "id": "pZhltoOmqWsz",
        "outputId": "fb8889cd-3566-4133-aabc-f71323d5a130"
      },
      "execution_count": null,
      "outputs": [
        {
          "output_type": "stream",
          "name": "stdout",
          "text": [
            "              precision    recall  f1-score   support\n",
            "\n",
            "           0       0.86      0.86      0.86       654\n",
            "           1       0.80      0.79      0.80       446\n",
            "\n",
            "    accuracy                           0.83      1100\n",
            "   macro avg       0.83      0.83      0.83      1100\n",
            "weighted avg       0.83      0.83      0.83      1100\n",
            "\n"
          ]
        }
      ]
    },
    {
      "cell_type": "code",
      "source": [
        "clf.cv_results_"
      ],
      "metadata": {
        "colab": {
          "base_uri": "https://localhost:8080/"
        },
        "id": "NftMOS9iqqo_",
        "outputId": "a31625e0-8f7f-4a0a-8066-0e1746a71f39"
      },
      "execution_count": null,
      "outputs": [
        {
          "output_type": "execute_result",
          "data": {
            "text/plain": [
              "{'mean_fit_time': array([0.05359406, 0.08835907, 0.05220914, 0.08916316, 0.05954132,\n",
              "        0.04962168, 0.04586596, 0.04967332, 0.04577799, 0.03613124]),\n",
              " 'mean_score_time': array([0.00559783, 0.00696006, 0.00503807, 0.00800166, 0.00527911,\n",
              "        0.00491028, 0.00498075, 0.00458827, 0.00472884, 0.00425606]),\n",
              " 'mean_test_score': array([0.81977273, 0.81840909, 0.81954545, 0.81636364, 0.81977273,\n",
              "        0.81909091, 0.81954545, 0.81909091, 0.82068182, 0.81931818]),\n",
              " 'param_max_depth': masked_array(data=[3, 5, 2, 6, 3, 6, 3, 4, 4, 5],\n",
              "              mask=[False, False, False, False, False, False, False, False,\n",
              "                    False, False],\n",
              "        fill_value='?',\n",
              "             dtype=object),\n",
              " 'param_num_leaves': masked_array(data=[100, 1000, 1000, 100, 1000, 5, 5, 5, 1000, 10],\n",
              "              mask=[False, False, False, False, False, False, False, False,\n",
              "                    False, False],\n",
              "        fill_value='?',\n",
              "             dtype=object),\n",
              " 'params': [{'max_depth': 3, 'num_leaves': 100},\n",
              "  {'max_depth': 5, 'num_leaves': 1000},\n",
              "  {'max_depth': 2, 'num_leaves': 1000},\n",
              "  {'max_depth': 6, 'num_leaves': 100},\n",
              "  {'max_depth': 3, 'num_leaves': 1000},\n",
              "  {'max_depth': 6, 'num_leaves': 5},\n",
              "  {'max_depth': 3, 'num_leaves': 5},\n",
              "  {'max_depth': 4, 'num_leaves': 5},\n",
              "  {'max_depth': 4, 'num_leaves': 1000},\n",
              "  {'max_depth': 5, 'num_leaves': 10}],\n",
              " 'rank_test_score': array([ 2,  9,  4, 10,  2,  7,  4,  7,  1,  6], dtype=int32),\n",
              " 'split0_test_score': array([0.82159091, 0.8125    , 0.82045455, 0.8125    , 0.82159091,\n",
              "        0.82045455, 0.82159091, 0.82045455, 0.82159091, 0.81931818]),\n",
              " 'split1_test_score': array([0.82159091, 0.825     , 0.82159091, 0.82272727, 0.82159091,\n",
              "        0.82159091, 0.82159091, 0.82159091, 0.825     , 0.82272727]),\n",
              " 'split2_test_score': array([0.82954545, 0.825     , 0.82840909, 0.825     , 0.82954545,\n",
              "        0.82840909, 0.82840909, 0.82840909, 0.82727273, 0.82727273]),\n",
              " 'split3_test_score': array([0.82159091, 0.82045455, 0.82159091, 0.81931818, 0.82159091,\n",
              "        0.81931818, 0.82045455, 0.81931818, 0.82045455, 0.81818182]),\n",
              " 'split4_test_score': array([0.80454545, 0.80909091, 0.80568182, 0.80227273, 0.80454545,\n",
              "        0.80568182, 0.80568182, 0.80568182, 0.80909091, 0.80909091]),\n",
              " 'std_fit_time': array([0.00430561, 0.00651922, 0.00596909, 0.00639936, 0.00304547,\n",
              "        0.00414292, 0.00034635, 0.00796274, 0.00298782, 0.00096969]),\n",
              " 'std_score_time': array([3.84994701e-04, 1.42051110e-04, 6.55156556e-05, 1.63761362e-04,\n",
              "        9.31262360e-05, 3.35425031e-05, 1.22895414e-04, 6.80754738e-04,\n",
              "        7.51805399e-04, 2.47709446e-05]),\n",
              " 'std_test_score': array([0.00821332, 0.00652395, 0.00748276, 0.00821332, 0.00821332,\n",
              "        0.00741341, 0.00748276, 0.00741341, 0.00628194, 0.00601307])}"
            ]
          },
          "metadata": {},
          "execution_count": 251
        }
      ]
    },
    {
      "cell_type": "code",
      "source": [
        ""
      ],
      "metadata": {
        "id": "WCSRjDDcGPN3"
      },
      "execution_count": null,
      "outputs": []
    },
    {
      "cell_type": "markdown",
      "source": [
        "#### Grid Search CV"
      ],
      "metadata": {
        "id": "BJGM4-0OGylq"
      }
    },
    {
      "cell_type": "code",
      "source": [
        "clf = GridSearchCV(model,dict(num_leaves=[5,10,100,1000],max_depth = [2,3,4,5,6]))"
      ],
      "metadata": {
        "id": "daa9JfpnGylq"
      },
      "execution_count": null,
      "outputs": []
    },
    {
      "cell_type": "code",
      "source": [
        "clf.fit(X_train,y_train)"
      ],
      "metadata": {
        "id": "HXtfVpiRGylr"
      },
      "execution_count": null,
      "outputs": []
    },
    {
      "cell_type": "code",
      "source": [
        "clf.best_params_"
      ],
      "metadata": {
        "id": "V9PdksPiGylr"
      },
      "execution_count": null,
      "outputs": []
    },
    {
      "cell_type": "code",
      "source": [
        "model = LGBMClassifier(num_leaves = 100,max_depth = 4)\n",
        "model.fit(X_train,y_train)\n",
        "y_pred = model.predict(X_test)\n",
        "acc = classification_report(y_test,y_pred)\n",
        "print(acc)"
      ],
      "metadata": {
        "id": "x4-D-EY9Gylr"
      },
      "execution_count": null,
      "outputs": []
    },
    {
      "cell_type": "code",
      "source": [
        "clf.cv_results_"
      ],
      "metadata": {
        "id": "qzcXvuvQGylr"
      },
      "execution_count": null,
      "outputs": []
    },
    {
      "cell_type": "code",
      "source": [
        ""
      ],
      "metadata": {
        "id": "dAY_JY3lGyls"
      },
      "execution_count": null,
      "outputs": []
    }
  ]
}